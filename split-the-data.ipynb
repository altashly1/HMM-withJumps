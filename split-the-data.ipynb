{
 "cells": [
  {
   "cell_type": "code",
   "execution_count": 9,
   "id": "ec5f7ed7-748e-4818-a399-d0c0b1a4f5ae",
   "metadata": {},
   "outputs": [],
   "source": [
    "### 📘 Cell 1: Import necessary packages\n",
    "include(\"include.jl\");"
   ]
  },
  {
   "cell_type": "code",
   "execution_count": 2,
   "id": "36de6a9f-ee68-4dd6-b354-dc3cba838dc4",
   "metadata": {},
   "outputs": [
    {
     "data": {
      "text/plain": [
       "Dict{String, Any} with 1 entry:\n",
       "  \"dataset\" => Dict{String, DataFrame}(\"TPR\"=>\u001b[1m1828×8 DataFrame\u001b[0m\u001b[0m…"
      ]
     },
     "execution_count": 2,
     "metadata": {},
     "output_type": "execute_result"
    }
   ],
   "source": [
    "### 📘 Cell 2: Load the JLD2 file\n",
    "# Replace \"your_file.jld2\" with your actual file path\n",
    "data = MyOriginalPortfolioDataSet()\n"
   ]
  },
  {
   "cell_type": "code",
   "execution_count": 3,
   "id": "6bece68e-25d3-4932-a17c-9db7bc866c9b",
   "metadata": {},
   "outputs": [
    {
     "data": {
      "text/plain": [
       "Dict{String, DataFrame} with 515 entries:\n",
       "  \"TPR\"  => \u001b[1m1828×8 DataFrame\u001b[0m\u001b[0m…\n",
       "  \"EMR\"  => \u001b[1m2792×8 DataFrame\u001b[0m\u001b[0m…\n",
       "  \"CTAS\" => \u001b[1m2792×8 DataFrame\u001b[0m\u001b[0m…\n",
       "  \"HSIC\" => \u001b[1m2792×8 DataFrame\u001b[0m\u001b[0m…\n",
       "  \"KIM\"  => \u001b[1m2792×8 DataFrame\u001b[0m\u001b[0m…\n",
       "  \"PLD\"  => \u001b[1m2792×8 DataFrame\u001b[0m\u001b[0m…\n",
       "  \"IEX\"  => \u001b[1m2792×8 DataFrame\u001b[0m\u001b[0m…\n",
       "  \"KSU\"  => \u001b[1m2001×8 DataFrame\u001b[0m\u001b[0m…\n",
       "  \"BAC\"  => \u001b[1m2792×8 DataFrame\u001b[0m\u001b[0m…\n",
       "  \"CBOE\" => \u001b[1m2792×8 DataFrame\u001b[0m\u001b[0m…\n",
       "  \"EXR\"  => \u001b[1m2792×8 DataFrame\u001b[0m\u001b[0m…\n",
       "  \"NCLH\" => \u001b[1m2792×8 DataFrame\u001b[0m\u001b[0m…\n",
       "  \"CVS\"  => \u001b[1m2792×8 DataFrame\u001b[0m\u001b[0m…\n",
       "  \"DRI\"  => \u001b[1m2792×8 DataFrame\u001b[0m\u001b[0m…\n",
       "  \"DTE\"  => \u001b[1m2792×8 DataFrame\u001b[0m\u001b[0m…\n",
       "  \"ZION\" => \u001b[1m2792×8 DataFrame\u001b[0m\u001b[0m…\n",
       "  \"AVY\"  => \u001b[1m2792×8 DataFrame\u001b[0m\u001b[0m…\n",
       "  \"EW\"   => \u001b[1m2792×8 DataFrame\u001b[0m\u001b[0m…\n",
       "  \"EA\"   => \u001b[1m2792×8 DataFrame\u001b[0m\u001b[0m…\n",
       "  \"NWSA\" => \u001b[1m2792×8 DataFrame\u001b[0m\u001b[0m…\n",
       "  \"BBWI\" => \u001b[1m884×8 DataFrame\u001b[0m\u001b[0m…\n",
       "  \"CAG\"  => \u001b[1m2792×8 DataFrame\u001b[0m\u001b[0m…\n",
       "  \"GPC\"  => \u001b[1m2792×8 DataFrame\u001b[0m\u001b[0m…\n",
       "  \"FCX\"  => \u001b[1m2792×8 DataFrame\u001b[0m\u001b[0m…\n",
       "  \"GILD\" => \u001b[1m2792×8 DataFrame\u001b[0m\u001b[0m…\n",
       "  ⋮      => ⋮"
      ]
     },
     "execution_count": 3,
     "metadata": {},
     "output_type": "execute_result"
    }
   ],
   "source": [
    "### 📘 Cell 3: Extract the DataFrame from the loaded file\n",
    "# Replace \"your_variable_name\" with the actual variable name in the JLD2 file\n",
    "original_dataset = data[\"dataset\"]\n"
   ]
  },
  {
   "cell_type": "code",
   "execution_count": 4,
   "id": "0075f75a-9f20-41ed-800e-010ce721570a",
   "metadata": {},
   "outputs": [
    {
     "data": {
      "text/plain": [
       "2792"
      ]
     },
     "execution_count": 4,
     "metadata": {},
     "output_type": "execute_result"
    }
   ],
   "source": [
    "maximum_number_trading_days = original_dataset[\"AAPL\"] |> nrow"
   ]
  },
  {
   "cell_type": "code",
   "execution_count": 5,
   "id": "56604aee-8116-4c3f-805e-445f691099f2",
   "metadata": {},
   "outputs": [
    {
     "data": {
      "text/html": [
       "<div><div style = \"float: left;\"><span>2792×8 DataFrame</span></div><div style = \"float: right;\"><span style = \"font-style: italic;\">2767 rows omitted</span></div><div style = \"clear: both;\"></div></div><div class = \"data-frame\" style = \"overflow-x: scroll;\"><table class = \"data-frame\" style = \"margin-bottom: 6px;\"><thead><tr class = \"header\"><th class = \"rowNumber\" style = \"font-weight: bold; text-align: right;\">Row</th><th style = \"text-align: left;\">volume</th><th style = \"text-align: left;\">volume_weighted_average_price</th><th style = \"text-align: left;\">open</th><th style = \"text-align: left;\">close</th><th style = \"text-align: left;\">high</th><th style = \"text-align: left;\">low</th><th style = \"text-align: left;\">timestamp</th><th style = \"text-align: left;\">number_of_transactions</th></tr><tr class = \"subheader headerLastRow\"><th class = \"rowNumber\" style = \"font-weight: bold; text-align: right;\"></th><th title = \"Float64\" style = \"text-align: left;\">Float64</th><th title = \"Float64\" style = \"text-align: left;\">Float64</th><th title = \"Float64\" style = \"text-align: left;\">Float64</th><th title = \"Float64\" style = \"text-align: left;\">Float64</th><th title = \"Float64\" style = \"text-align: left;\">Float64</th><th title = \"Float64\" style = \"text-align: left;\">Float64</th><th title = \"DateTime\" style = \"text-align: left;\">DateTime</th><th title = \"Int64\" style = \"text-align: left;\">Int64</th></tr></thead><tbody><tr><td class = \"rowNumber\" style = \"font-weight: bold; text-align: right;\">1</td><td style = \"text-align: right;\">3.93215e8</td><td style = \"text-align: right;\">19.4749</td><td style = \"text-align: right;\">19.745</td><td style = \"text-align: right;\">19.3207</td><td style = \"text-align: right;\">19.775</td><td style = \"text-align: right;\">19.3011</td><td style = \"text-align: left;\">2014-01-03T05:00:00</td><td style = \"text-align: right;\">148584</td></tr><tr><td class = \"rowNumber\" style = \"font-weight: bold; text-align: right;\">2</td><td style = \"text-align: right;\">4.13437e8</td><td style = \"text-align: right;\">19.3213</td><td style = \"text-align: right;\">19.1946</td><td style = \"text-align: right;\">19.4261</td><td style = \"text-align: right;\">19.5286</td><td style = \"text-align: right;\">19.0571</td><td style = \"text-align: left;\">2014-01-06T05:00:00</td><td style = \"text-align: right;\">131664</td></tr><tr><td class = \"rowNumber\" style = \"font-weight: bold; text-align: right;\">3</td><td style = \"text-align: right;\">3.17731e8</td><td style = \"text-align: right;\">19.3329</td><td style = \"text-align: right;\">19.44</td><td style = \"text-align: right;\">19.2871</td><td style = \"text-align: right;\">19.4986</td><td style = \"text-align: right;\">19.2116</td><td style = \"text-align: left;\">2014-01-07T05:00:00</td><td style = \"text-align: right;\">107327</td></tr><tr><td class = \"rowNumber\" style = \"font-weight: bold; text-align: right;\">4</td><td style = \"text-align: right;\">2.58747e8</td><td style = \"text-align: right;\">19.4038</td><td style = \"text-align: right;\">19.2432</td><td style = \"text-align: right;\">19.4093</td><td style = \"text-align: right;\">19.4843</td><td style = \"text-align: right;\">19.2389</td><td style = \"text-align: left;\">2014-01-08T05:00:00</td><td style = \"text-align: right;\">86874</td></tr><tr><td class = \"rowNumber\" style = \"font-weight: bold; text-align: right;\">5</td><td style = \"text-align: right;\">2.79621e8</td><td style = \"text-align: right;\">19.2943</td><td style = \"text-align: right;\">19.5286</td><td style = \"text-align: right;\">19.1614</td><td style = \"text-align: right;\">19.5307</td><td style = \"text-align: right;\">19.1196</td><td style = \"text-align: left;\">2014-01-09T05:00:00</td><td style = \"text-align: right;\">93562</td></tr><tr><td class = \"rowNumber\" style = \"font-weight: bold; text-align: right;\">6</td><td style = \"text-align: right;\">3.05283e8</td><td style = \"text-align: right;\">19.0659</td><td style = \"text-align: right;\">19.2796</td><td style = \"text-align: right;\">19.0336</td><td style = \"text-align: right;\">19.3143</td><td style = \"text-align: right;\">18.9682</td><td style = \"text-align: left;\">2014-01-10T05:00:00</td><td style = \"text-align: right;\">113063</td></tr><tr><td class = \"rowNumber\" style = \"font-weight: bold; text-align: right;\">7</td><td style = \"text-align: right;\">3.79443e8</td><td style = \"text-align: right;\">19.1801</td><td style = \"text-align: right;\">18.9254</td><td style = \"text-align: right;\">19.1332</td><td style = \"text-align: right;\">19.375</td><td style = \"text-align: right;\">18.9243</td><td style = \"text-align: left;\">2014-01-13T05:00:00</td><td style = \"text-align: right;\">130227</td></tr><tr><td class = \"rowNumber\" style = \"font-weight: bold; text-align: right;\">8</td><td style = \"text-align: right;\">3.34937e8</td><td style = \"text-align: right;\">19.4033</td><td style = \"text-align: right;\">19.2221</td><td style = \"text-align: right;\">19.5139</td><td style = \"text-align: right;\">19.5261</td><td style = \"text-align: right;\">19.2021</td><td style = \"text-align: left;\">2014-01-14T05:00:00</td><td style = \"text-align: right;\">114856</td></tr><tr><td class = \"rowNumber\" style = \"font-weight: bold; text-align: right;\">9</td><td style = \"text-align: right;\">3.9389e8</td><td style = \"text-align: right;\">19.9105</td><td style = \"text-align: right;\">19.7686</td><td style = \"text-align: right;\">19.9057</td><td style = \"text-align: right;\">20.0071</td><td style = \"text-align: right;\">19.7021</td><td style = \"text-align: left;\">2014-01-15T05:00:00</td><td style = \"text-align: right;\">136942</td></tr><tr><td class = \"rowNumber\" style = \"font-weight: bold; text-align: right;\">10</td><td style = \"text-align: right;\">2.29885e8</td><td style = \"text-align: right;\">19.8115</td><td style = \"text-align: right;\">19.8179</td><td style = \"text-align: right;\">19.7946</td><td style = \"text-align: right;\">19.8875</td><td style = \"text-align: right;\">19.7029</td><td style = \"text-align: left;\">2014-01-16T05:00:00</td><td style = \"text-align: right;\">78507</td></tr><tr><td class = \"rowNumber\" style = \"font-weight: bold; text-align: right;\">11</td><td style = \"text-align: right;\">4.33704e8</td><td style = \"text-align: right;\">19.4976</td><td style = \"text-align: right;\">19.6957</td><td style = \"text-align: right;\">19.3096</td><td style = \"text-align: right;\">19.7168</td><td style = \"text-align: right;\">19.2821</td><td style = \"text-align: left;\">2014-01-17T05:00:00</td><td style = \"text-align: right;\">133579</td></tr><tr><td class = \"rowNumber\" style = \"font-weight: bold; text-align: right;\">12</td><td style = \"text-align: right;\">3.29022e8</td><td style = \"text-align: right;\">19.5221</td><td style = \"text-align: right;\">19.3211</td><td style = \"text-align: right;\">19.6096</td><td style = \"text-align: right;\">19.6454</td><td style = \"text-align: right;\">19.3007</td><td style = \"text-align: left;\">2014-01-21T05:00:00</td><td style = \"text-align: right;\">111405</td></tr><tr><td class = \"rowNumber\" style = \"font-weight: bold; text-align: right;\">13</td><td style = \"text-align: right;\">3.80877e8</td><td style = \"text-align: right;\">19.764</td><td style = \"text-align: right;\">19.6755</td><td style = \"text-align: right;\">19.6968</td><td style = \"text-align: right;\">19.9032</td><td style = \"text-align: right;\">19.5646</td><td style = \"text-align: left;\">2014-01-22T05:00:00</td><td style = \"text-align: right;\">117241</td></tr><tr><td style = \"text-align: right;\">&vellip;</td><td style = \"text-align: right;\">&vellip;</td><td style = \"text-align: right;\">&vellip;</td><td style = \"text-align: right;\">&vellip;</td><td style = \"text-align: right;\">&vellip;</td><td style = \"text-align: right;\">&vellip;</td><td style = \"text-align: right;\">&vellip;</td><td style = \"text-align: right;\">&vellip;</td><td style = \"text-align: right;\">&vellip;</td></tr><tr><td class = \"rowNumber\" style = \"font-weight: bold; text-align: right;\">2781</td><td style = \"text-align: right;\">5.77551e7</td><td style = \"text-align: right;\">224.127</td><td style = \"text-align: right;\">224.74</td><td style = \"text-align: right;\">223.66</td><td style = \"text-align: right;\">227.03</td><td style = \"text-align: right;\">222.3</td><td style = \"text-align: left;\">2025-01-23T05:00:00</td><td style = \"text-align: right;\">619710</td></tr><tr><td class = \"rowNumber\" style = \"font-weight: bold; text-align: right;\">2782</td><td style = \"text-align: right;\">5.30144e7</td><td style = \"text-align: right;\">223.156</td><td style = \"text-align: right;\">224.78</td><td style = \"text-align: right;\">222.78</td><td style = \"text-align: right;\">225.63</td><td style = \"text-align: right;\">221.41</td><td style = \"text-align: left;\">2025-01-24T05:00:00</td><td style = \"text-align: right;\">579370</td></tr><tr><td class = \"rowNumber\" style = \"font-weight: bold; text-align: right;\">2783</td><td style = \"text-align: right;\">9.0457e7</td><td style = \"text-align: right;\">228.789</td><td style = \"text-align: right;\">224.02</td><td style = \"text-align: right;\">229.86</td><td style = \"text-align: right;\">232.15</td><td style = \"text-align: right;\">223.98</td><td style = \"text-align: left;\">2025-01-27T05:00:00</td><td style = \"text-align: right;\">1008073</td></tr><tr><td class = \"rowNumber\" style = \"font-weight: bold; text-align: right;\">2784</td><td style = \"text-align: right;\">7.27941e7</td><td style = \"text-align: right;\">237.453</td><td style = \"text-align: right;\">230.85</td><td style = \"text-align: right;\">238.26</td><td style = \"text-align: right;\">240.19</td><td style = \"text-align: right;\">230.81</td><td style = \"text-align: left;\">2025-01-28T05:00:00</td><td style = \"text-align: right;\">788705</td></tr><tr><td class = \"rowNumber\" style = \"font-weight: bold; text-align: right;\">2785</td><td style = \"text-align: right;\">4.37321e7</td><td style = \"text-align: right;\">237.411</td><td style = \"text-align: right;\">234.12</td><td style = \"text-align: right;\">239.36</td><td style = \"text-align: right;\">239.855</td><td style = \"text-align: right;\">234.01</td><td style = \"text-align: left;\">2025-01-29T05:00:00</td><td style = \"text-align: right;\">515118</td></tr><tr><td class = \"rowNumber\" style = \"font-weight: bold; text-align: right;\">2786</td><td style = \"text-align: right;\">5.35053e7</td><td style = \"text-align: right;\">239.015</td><td style = \"text-align: right;\">238.665</td><td style = \"text-align: right;\">237.59</td><td style = \"text-align: right;\">240.79</td><td style = \"text-align: right;\">237.21</td><td style = \"text-align: left;\">2025-01-30T05:00:00</td><td style = \"text-align: right;\">636297</td></tr><tr><td class = \"rowNumber\" style = \"font-weight: bold; text-align: right;\">2787</td><td style = \"text-align: right;\">9.01286e7</td><td style = \"text-align: right;\">238.867</td><td style = \"text-align: right;\">247.19</td><td style = \"text-align: right;\">236.0</td><td style = \"text-align: right;\">247.19</td><td style = \"text-align: right;\">233.44</td><td style = \"text-align: left;\">2025-01-31T05:00:00</td><td style = \"text-align: right;\">936601</td></tr><tr><td class = \"rowNumber\" style = \"font-weight: bold; text-align: right;\">2788</td><td style = \"text-align: right;\">6.95843e7</td><td style = \"text-align: right;\">228.317</td><td style = \"text-align: right;\">229.99</td><td style = \"text-align: right;\">228.01</td><td style = \"text-align: right;\">231.83</td><td style = \"text-align: right;\">225.7</td><td style = \"text-align: left;\">2025-02-03T05:00:00</td><td style = \"text-align: right;\">851432</td></tr><tr><td class = \"rowNumber\" style = \"font-weight: bold; text-align: right;\">2789</td><td style = \"text-align: right;\">4.16304e7</td><td style = \"text-align: right;\">231.084</td><td style = \"text-align: right;\">227.25</td><td style = \"text-align: right;\">232.8</td><td style = \"text-align: right;\">233.13</td><td style = \"text-align: right;\">226.65</td><td style = \"text-align: left;\">2025-02-04T05:00:00</td><td style = \"text-align: right;\">497235</td></tr><tr><td class = \"rowNumber\" style = \"font-weight: bold; text-align: right;\">2790</td><td style = \"text-align: right;\">3.7443e7</td><td style = \"text-align: right;\">230.727</td><td style = \"text-align: right;\">228.53</td><td style = \"text-align: right;\">232.47</td><td style = \"text-align: right;\">232.67</td><td style = \"text-align: right;\">228.27</td><td style = \"text-align: left;\">2025-02-05T05:00:00</td><td style = \"text-align: right;\">445560</td></tr><tr><td class = \"rowNumber\" style = \"font-weight: bold; text-align: right;\">2791</td><td style = \"text-align: right;\">2.84214e7</td><td style = \"text-align: right;\">232.362</td><td style = \"text-align: right;\">231.285</td><td style = \"text-align: right;\">233.22</td><td style = \"text-align: right;\">233.8</td><td style = \"text-align: right;\">230.425</td><td style = \"text-align: left;\">2025-02-06T05:00:00</td><td style = \"text-align: right;\">375308</td></tr><tr><td class = \"rowNumber\" style = \"font-weight: bold; text-align: right;\">2792</td><td style = \"text-align: right;\">3.77876e7</td><td style = \"text-align: right;\">229.206</td><td style = \"text-align: right;\">232.6</td><td style = \"text-align: right;\">227.63</td><td style = \"text-align: right;\">234.0</td><td style = \"text-align: right;\">227.26</td><td style = \"text-align: left;\">2025-02-07T05:00:00</td><td style = \"text-align: right;\">488105</td></tr></tbody></table></div>"
      ],
      "text/latex": [
       "\\begin{tabular}{r|cccccccc}\n",
       "\t& volume & volume\\_weighted\\_average\\_price & open & close & high & low & timestamp & \\\\\n",
       "\t\\hline\n",
       "\t& Float64 & Float64 & Float64 & Float64 & Float64 & Float64 & DateTime & \\\\\n",
       "\t\\hline\n",
       "\t1 & 3.93215e8 & 19.4749 & 19.745 & 19.3207 & 19.775 & 19.3011 & 2014-01-03T05:00:00 & $\\dots$ \\\\\n",
       "\t2 & 4.13437e8 & 19.3213 & 19.1946 & 19.4261 & 19.5286 & 19.0571 & 2014-01-06T05:00:00 & $\\dots$ \\\\\n",
       "\t3 & 3.17731e8 & 19.3329 & 19.44 & 19.2871 & 19.4986 & 19.2116 & 2014-01-07T05:00:00 & $\\dots$ \\\\\n",
       "\t4 & 2.58747e8 & 19.4038 & 19.2432 & 19.4093 & 19.4843 & 19.2389 & 2014-01-08T05:00:00 & $\\dots$ \\\\\n",
       "\t5 & 2.79621e8 & 19.2943 & 19.5286 & 19.1614 & 19.5307 & 19.1196 & 2014-01-09T05:00:00 & $\\dots$ \\\\\n",
       "\t6 & 3.05283e8 & 19.0659 & 19.2796 & 19.0336 & 19.3143 & 18.9682 & 2014-01-10T05:00:00 & $\\dots$ \\\\\n",
       "\t7 & 3.79443e8 & 19.1801 & 18.9254 & 19.1332 & 19.375 & 18.9243 & 2014-01-13T05:00:00 & $\\dots$ \\\\\n",
       "\t8 & 3.34937e8 & 19.4033 & 19.2221 & 19.5139 & 19.5261 & 19.2021 & 2014-01-14T05:00:00 & $\\dots$ \\\\\n",
       "\t9 & 3.9389e8 & 19.9105 & 19.7686 & 19.9057 & 20.0071 & 19.7021 & 2014-01-15T05:00:00 & $\\dots$ \\\\\n",
       "\t10 & 2.29885e8 & 19.8115 & 19.8179 & 19.7946 & 19.8875 & 19.7029 & 2014-01-16T05:00:00 & $\\dots$ \\\\\n",
       "\t11 & 4.33704e8 & 19.4976 & 19.6957 & 19.3096 & 19.7168 & 19.2821 & 2014-01-17T05:00:00 & $\\dots$ \\\\\n",
       "\t12 & 3.29022e8 & 19.5221 & 19.3211 & 19.6096 & 19.6454 & 19.3007 & 2014-01-21T05:00:00 & $\\dots$ \\\\\n",
       "\t13 & 3.80877e8 & 19.764 & 19.6755 & 19.6968 & 19.9032 & 19.5646 & 2014-01-22T05:00:00 & $\\dots$ \\\\\n",
       "\t14 & 4.03913e8 & 19.714 & 19.6407 & 19.8636 & 19.875 & 19.4574 & 2014-01-23T05:00:00 & $\\dots$ \\\\\n",
       "\t15 & 4.33538e8 & 19.6392 & 19.7857 & 19.5025 & 19.8436 & 19.4554 & 2014-01-24T05:00:00 & $\\dots$ \\\\\n",
       "\t16 & 5.76877e8 & 19.3585 & 19.6454 & 19.6607 & 19.8143 & 19.4911 & 2014-01-27T05:00:00 & $\\dots$ \\\\\n",
       "\t17 & 1.06733e9 & 18.1918 & 18.17 & 18.0893 & 18.3929 & 17.9311 & 2014-01-28T05:00:00 & $\\dots$ \\\\\n",
       "\t18 & 5.03771e8 & 17.9307 & 17.9982 & 17.8839 & 18.1204 & 17.8079 & 2014-01-29T05:00:00 & $\\dots$ \\\\\n",
       "\t19 & 6.79051e8 & 17.8802 & 17.9479 & 17.8494 & 18.0893 & 17.7393 & 2014-01-30T05:00:00 & $\\dots$ \\\\\n",
       "\t20 & 4.65346e8 & 17.7956 & 17.685 & 17.8786 & 17.9118 & 17.6268 & 2014-01-31T05:00:00 & $\\dots$ \\\\\n",
       "\t21 & 4.02483e8 & 17.9578 & 17.9504 & 17.9118 & 18.1332 & 17.8321 & 2014-02-03T05:00:00 & $\\dots$ \\\\\n",
       "\t22 & 3.77094e8 & 18.1172 & 18.0661 & 18.1711 & 18.195 & 17.9557 & 2014-02-04T05:00:00 & $\\dots$ \\\\\n",
       "\t23 & 3.29289e8 & 18.2867 & 18.0914 & 18.3068 & 18.4029 & 18.0804 & 2014-02-05T05:00:00 & $\\dots$ \\\\\n",
       "\t24 & 2.57989e8 & 18.2852 & 18.2164 & 18.3039 & 18.3393 & 18.1361 & 2014-02-06T05:00:00 & $\\dots$ \\\\\n",
       "\t25 & 3.74554e8 & 18.5897 & 18.6207 & 18.56 & 18.6761 & 18.4779 & 2014-02-07T05:00:00 & $\\dots$ \\\\\n",
       "\t26 & 3.45804e8 & 18.8447 & 18.5236 & 18.8925 & 18.9996 & 18.5 & 2014-02-10T05:00:00 & $\\dots$ \\\\\n",
       "\t27 & 2.82689e8 & 19.1015 & 18.9504 & 19.1414 & 19.2054 & 18.9107 & 2014-02-11T05:00:00 & $\\dots$ \\\\\n",
       "\t28 & 3.08508e8 & 19.1592 & 19.1768 & 19.14 & 19.27 & 19.0443 & 2014-02-12T05:00:00 & $\\dots$ \\\\\n",
       "\t29 & 3.07841e8 & 19.3361 & 19.095 & 19.4439 & 19.4589 & 19.0786 & 2014-02-13T05:00:00 & $\\dots$ \\\\\n",
       "\t30 & 2.73872e8 & 19.4101 & 19.3739 & 19.4282 & 19.4993 & 19.3289 & 2014-02-14T05:00:00 & $\\dots$ \\\\\n",
       "\t$\\dots$ & $\\dots$ & $\\dots$ & $\\dots$ & $\\dots$ & $\\dots$ & $\\dots$ & $\\dots$ &  \\\\\n",
       "\\end{tabular}\n"
      ],
      "text/plain": [
       "\u001b[1m2792×8 DataFrame\u001b[0m\n",
       "\u001b[1m  Row \u001b[0m│\u001b[1m volume    \u001b[0m\u001b[1m volume_weighted_average_price \u001b[0m\u001b[1m open     \u001b[0m\u001b[1m close    \u001b[0m\u001b[1m high    \u001b[0m ⋯\n",
       "      │\u001b[90m Float64   \u001b[0m\u001b[90m Float64                       \u001b[0m\u001b[90m Float64  \u001b[0m\u001b[90m Float64  \u001b[0m\u001b[90m Float64 \u001b[0m ⋯\n",
       "──────┼─────────────────────────────────────────────────────────────────────────\n",
       "    1 │ 3.93215e8                        19.4749   19.745    19.3207   19.775  ⋯\n",
       "    2 │ 4.13437e8                        19.3213   19.1946   19.4261   19.5286\n",
       "    3 │ 3.17731e8                        19.3329   19.44     19.2871   19.4986\n",
       "    4 │ 2.58747e8                        19.4038   19.2432   19.4093   19.4843\n",
       "    5 │ 2.79621e8                        19.2943   19.5286   19.1614   19.5307 ⋯\n",
       "    6 │ 3.05283e8                        19.0659   19.2796   19.0336   19.3143\n",
       "    7 │ 3.79443e8                        19.1801   18.9254   19.1332   19.375\n",
       "    8 │ 3.34937e8                        19.4033   19.2221   19.5139   19.5261\n",
       "    9 │ 3.9389e8                         19.9105   19.7686   19.9057   20.0071 ⋯\n",
       "   10 │ 2.29885e8                        19.8115   19.8179   19.7946   19.8875\n",
       "   11 │ 4.33704e8                        19.4976   19.6957   19.3096   19.7168\n",
       "  ⋮   │     ⋮                    ⋮                   ⋮         ⋮         ⋮     ⋱\n",
       " 2783 │ 9.0457e7                        228.789   224.02    229.86    232.15\n",
       " 2784 │ 7.27941e7                       237.453   230.85    238.26    240.19   ⋯\n",
       " 2785 │ 4.37321e7                       237.411   234.12    239.36    239.855\n",
       " 2786 │ 5.35053e7                       239.015   238.665   237.59    240.79\n",
       " 2787 │ 9.01286e7                       238.867   247.19    236.0     247.19\n",
       " 2788 │ 6.95843e7                       228.317   229.99    228.01    231.83   ⋯\n",
       " 2789 │ 4.16304e7                       231.084   227.25    232.8     233.13\n",
       " 2790 │ 3.7443e7                        230.727   228.53    232.47    232.67\n",
       " 2791 │ 2.84214e7                       232.362   231.285   233.22    233.8\n",
       " 2792 │ 3.77876e7                       229.206   232.6     227.63    234.0    ⋯\n",
       "\u001b[36m                                                 3 columns and 2771 rows omitted\u001b[0m"
      ]
     },
     "execution_count": 5,
     "metadata": {},
     "output_type": "execute_result"
    }
   ],
   "source": [
    "original_dataset[\"AAPL\"]"
   ]
  },
  {
   "cell_type": "code",
   "execution_count": 6,
   "id": "b79f5940-834e-4498-8f31-15c121950647",
   "metadata": {},
   "outputs": [],
   "source": [
    "dataset = Dict{String,DataFrame}();\n",
    "for (ticker,data) ∈ original_dataset\n",
    "    if (nrow(data) == maximum_number_trading_days)\n",
    "        dataset[ticker] = data;\n",
    "    end\n",
    "end"
   ]
  },
  {
   "cell_type": "code",
   "execution_count": 7,
   "id": "e0266a66-bc37-44ea-9714-89e610b11aaf",
   "metadata": {},
   "outputs": [
    {
     "data": {
      "text/plain": [
       "424-element Vector{String}:\n",
       " \"A\"\n",
       " \"AAL\"\n",
       " \"AAP\"\n",
       " \"AAPL\"\n",
       " \"ABBV\"\n",
       " \"ABT\"\n",
       " \"ACN\"\n",
       " \"ADBE\"\n",
       " \"ADI\"\n",
       " \"ADM\"\n",
       " \"ADP\"\n",
       " \"ADSK\"\n",
       " \"AEE\"\n",
       " ⋮\n",
       " \"WST\"\n",
       " \"WU\"\n",
       " \"WY\"\n",
       " \"WYNN\"\n",
       " \"XEL\"\n",
       " \"XOM\"\n",
       " \"XRAY\"\n",
       " \"XYL\"\n",
       " \"YUM\"\n",
       " \"ZBRA\"\n",
       " \"ZION\"\n",
       " \"ZTS\""
      ]
     },
     "execution_count": 7,
     "metadata": {},
     "output_type": "execute_result"
    }
   ],
   "source": [
    "list_of_all_tickers = keys(dataset) |> collect |> x->sort(x)"
   ]
  },
  {
   "cell_type": "code",
   "execution_count": 8,
   "id": "8b34c3ba-a08e-4ae4-87a9-eb5c4a9a6b62",
   "metadata": {},
   "outputs": [],
   "source": [
    "### 📘 Cell 4: Split and save each ticker's data into two dictionaries\n",
    "train_start = DateTime(2014, 1, 1)\n",
    "train_end = DateTime(2023, 12, 31, 23, 59, 59)\n",
    "\n",
    "train_dataset = Dict{String, DataFrame}()\n",
    "test_dataset = Dict{String, DataFrame}()\n",
    "\n",
    "for ticker in list_of_all_tickers\n",
    "    df = dataset[ticker]\n",
    "    df.timestamp = DateTime.(df.timestamp)  # ensure the timestamp column is DateTime\n",
    "\n",
    "    train_data = filter(row -> train_start <= row.timestamp <= train_end, df)\n",
    "    test_data = filter(row -> row.timestamp > train_end, df)\n",
    "\n",
    "    train_dataset[ticker] = train_data\n",
    "    test_dataset[ticker] = test_data\n",
    "end\n",
    "\n",
    "train_file = joinpath(_PATH_TO_DATA, \"train_dataset_2014_2023.jld2\")\n",
    "test_file = joinpath(_PATH_TO_DATA, \"test_dataset_2024_onward.jld2\")\n",
    "\n",
    "@save train_file train_dataset\n",
    "@save test_file test_dataset"
   ]
  },
  {
   "cell_type": "code",
   "execution_count": null,
   "id": "0380d9a6-c3ff-4ce3-965c-be0d6fc42f32",
   "metadata": {},
   "outputs": [],
   "source": []
  }
 ],
 "metadata": {
  "kernelspec": {
   "display_name": "Julia 1.11.4",
   "language": "julia",
   "name": "julia-1.11"
  },
  "language_info": {
   "file_extension": ".jl",
   "mimetype": "application/julia",
   "name": "julia",
   "version": "1.11.4"
  }
 },
 "nbformat": 4,
 "nbformat_minor": 5
}

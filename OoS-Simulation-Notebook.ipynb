{
 "cells": [
  {
   "cell_type": "markdown",
   "id": "736fe6e3-e0eb-4fdf-97ad-e6539b9b9993",
   "metadata": {},
   "source": [
    "# Project: Calculating out-of-sample Markov Model Performance\n",
    "We will build on our previous discussions about Markov models during this project. Students will evaluate the out-of-sample performance of the daily growth rate model we developed in the worked example. We anticipate that the out-of-sample performance will be inferior to the in-sample training data. Toward this hypothesis, we will examine various model performance metrics and assess the extent of the performance degradation.\n",
    "\n",
    "### Learning objectives\n",
    "* __Prerequisites__: We begin by loading the daily growth rate Markov model file we saved in the worked example. Using this data, we'll set various variables and constants that are used later.\n",
    "* __Task 1__: Compute the encoded out-of-sample model prediction. Starting from the stationary distribution $\\bar\\pi$, generate a population of encoded `SPY` growth rate samples\n",
    "* __Task 2__: Decode the out-of-sample model prediction. This will take the samples from Task 1 and transform them from discrete internal state variables to floating point values for the daily excess growth rate.\n",
    "* __Task 3__: How good is the out-of-sample model prediction? Finally, we'll compare the properties of the out-of-sample prediction with the observed out-of-sample `SPY` growth rate sequence."
   ]
  },
  {
   "cell_type": "markdown",
   "id": "bc341a7d-b349-49d0-9d8c-cf0623d4ad87",
   "metadata": {},
   "source": [
    "## Setup\n",
    "We set up the computational environment by including the `Include.jl` file. The `Include.jl` file loads external packages, various functions that we will use in the exercise, and custom types to model the components of our lab problem.\n",
    "* For additional information on functions and types used in this material, see the [Julia programming language documentation](https://docs.julialang.org/en/v1/) and the [VLQuantitativeFinancePackage.jl documentation](https://github.com/varnerlab/VLQuantitativeFinancePackage.jl). "
   ]
  },
  {
   "cell_type": "code",
   "execution_count": 1,
   "id": "190ae5bf-90ab-454f-89e2-16c0db79cd7c",
   "metadata": {},
   "outputs": [],
   "source": [
    "include(\"Include.jl\");"
   ]
  },
  {
   "cell_type": "markdown",
   "id": "156e6fad-5c1b-442d-8cf5-d3202ab413e0",
   "metadata": {},
   "source": [
    "## Prerequisites: Load and clean the historical dataset\n",
    "We gathered an out-of-sample daily open-high-low-close `dataset` for each firm in the [S&P500](https://en.wikipedia.org/wiki/S%26P_500) from `01-03-2024` until `10-25-2024`, along with data for a few exchange-traded funds and volatility products during that time. In this block of code, we:\n",
    "* Load and clean the historical data; store the cleaned data in the `dataset` variable. We then calculate the expected excess return $\\mathbb{E}(R_{i})$ for each `ticker` in the `dataset.` Finally, you'll select a firm by changing the value in the `ticker` variable. We store the computed excess return for the `ticker` in the `Rᵢ` variable.\n",
    "* Load the previous HMM model codes that we saved during model training.\n",
    "\n",
    "Let's start by setting some constant values."
   ]
  },
  {
   "cell_type": "code",
   "execution_count": 2,
   "id": "181d99d3-a236-4449-9dfb-7fb418e0e22b",
   "metadata": {},
   "outputs": [],
   "source": [
    "risk_free_rate = 0.0421; # 17-Jun-2024 10-year treasury\n",
    "Δt = (1/252); # time step 1 x trading in units of years\n",
    "number_of_paths = 100; # number of potential futures should we look at\n",
    "blue_color = colorant\"rgb(68,152,242)\";\n",
    "ticker = \"SPY\"; # This is the ticker we want to explore"
   ]
  },
  {
   "cell_type": "markdown",
   "id": "81a960e7-351c-419a-925f-305d5c1bcb84",
   "metadata": {},
   "source": [
    "#### Out-of-sample Dataset\n",
    "Next, load and clean the historical out-of-sample dataset. We load the `out_of_sample_dataset` by calling the `MyOutOfSamplePortfolioDataSet()` function:"
   ]
  },
  {
   "cell_type": "code",
   "execution_count": 3,
   "id": "2216612d-b0a0-4432-bc58-d9658f014e2f",
   "metadata": {
    "scrolled": true
   },
   "outputs": [
    {
     "data": {
      "text/plain": [
       "Dict{String, DataFrame} with 424 entries:\n",
       "  \"EMR\"  => \u001b[1m277×8 DataFrame\u001b[0m\u001b[0m…\n",
       "  \"CTAS\" => \u001b[1m277×8 DataFrame\u001b[0m\u001b[0m…\n",
       "  \"HSIC\" => \u001b[1m277×8 DataFrame\u001b[0m\u001b[0m…\n",
       "  \"KIM\"  => \u001b[1m277×8 DataFrame\u001b[0m\u001b[0m…\n",
       "  \"PLD\"  => \u001b[1m277×8 DataFrame\u001b[0m\u001b[0m…\n",
       "  \"IEX\"  => \u001b[1m277×8 DataFrame\u001b[0m\u001b[0m…\n",
       "  \"BAC\"  => \u001b[1m277×8 DataFrame\u001b[0m\u001b[0m…\n",
       "  \"CBOE\" => \u001b[1m277×8 DataFrame\u001b[0m\u001b[0m…\n",
       "  \"EXR\"  => \u001b[1m277×8 DataFrame\u001b[0m\u001b[0m…\n",
       "  \"NCLH\" => \u001b[1m277×8 DataFrame\u001b[0m\u001b[0m…\n",
       "  \"CVS\"  => \u001b[1m277×8 DataFrame\u001b[0m\u001b[0m…\n",
       "  \"DRI\"  => \u001b[1m277×8 DataFrame\u001b[0m\u001b[0m…\n",
       "  \"DTE\"  => \u001b[1m277×8 DataFrame\u001b[0m\u001b[0m…\n",
       "  \"ZION\" => \u001b[1m277×8 DataFrame\u001b[0m\u001b[0m…\n",
       "  \"AVY\"  => \u001b[1m277×8 DataFrame\u001b[0m\u001b[0m…\n",
       "  \"EW\"   => \u001b[1m277×8 DataFrame\u001b[0m\u001b[0m…\n",
       "  \"EA\"   => \u001b[1m277×8 DataFrame\u001b[0m\u001b[0m…\n",
       "  \"NWSA\" => \u001b[1m277×8 DataFrame\u001b[0m\u001b[0m…\n",
       "  \"CAG\"  => \u001b[1m277×8 DataFrame\u001b[0m\u001b[0m…\n",
       "  \"GILD\" => \u001b[1m277×8 DataFrame\u001b[0m\u001b[0m…\n",
       "  \"FCX\"  => \u001b[1m277×8 DataFrame\u001b[0m\u001b[0m…\n",
       "  \"GPC\"  => \u001b[1m277×8 DataFrame\u001b[0m\u001b[0m…\n",
       "  \"UNP\"  => \u001b[1m277×8 DataFrame\u001b[0m\u001b[0m…\n",
       "  \"CDW\"  => \u001b[1m277×8 DataFrame\u001b[0m\u001b[0m…\n",
       "  \"SBUX\" => \u001b[1m277×8 DataFrame\u001b[0m\u001b[0m…\n",
       "  ⋮      => ⋮"
      ]
     },
     "execution_count": 3,
     "metadata": {},
     "output_type": "execute_result"
    }
   ],
   "source": [
    "out_of_sample_dataset = MyOutOfSamplePortfolioDataSet() |> x->x[\"test_dataset\"]"
   ]
  },
  {
   "cell_type": "code",
   "execution_count": 4,
   "id": "97452733-41a4-4667-879d-d85785caaf52",
   "metadata": {
    "scrolled": true
   },
   "outputs": [
    {
     "data": {
      "text/html": [
       "<div><div style = \"float: left;\"><span>277×8 DataFrame</span></div><div style = \"float: right;\"><span style = \"font-style: italic;\">252 rows omitted</span></div><div style = \"clear: both;\"></div></div><div class = \"data-frame\" style = \"overflow-x: scroll;\"><table class = \"data-frame\" style = \"margin-bottom: 6px;\"><thead><tr class = \"header\"><th class = \"rowNumber\" style = \"font-weight: bold; text-align: right;\">Row</th><th style = \"text-align: left;\">volume</th><th style = \"text-align: left;\">volume_weighted_average_price</th><th style = \"text-align: left;\">open</th><th style = \"text-align: left;\">close</th><th style = \"text-align: left;\">high</th><th style = \"text-align: left;\">low</th><th style = \"text-align: left;\">timestamp</th><th style = \"text-align: left;\">number_of_transactions</th></tr><tr class = \"subheader headerLastRow\"><th class = \"rowNumber\" style = \"font-weight: bold; text-align: right;\"></th><th title = \"Float64\" style = \"text-align: left;\">Float64</th><th title = \"Float64\" style = \"text-align: left;\">Float64</th><th title = \"Float64\" style = \"text-align: left;\">Float64</th><th title = \"Float64\" style = \"text-align: left;\">Float64</th><th title = \"Float64\" style = \"text-align: left;\">Float64</th><th title = \"Float64\" style = \"text-align: left;\">Float64</th><th title = \"DateTime\" style = \"text-align: left;\">DateTime</th><th title = \"Int64\" style = \"text-align: left;\">Int64</th></tr></thead><tbody><tr><td class = \"rowNumber\" style = \"font-weight: bold; text-align: right;\">1</td><td style = \"text-align: right;\">4.1117e8</td><td style = \"text-align: right;\">48.0662</td><td style = \"text-align: right;\">49.244</td><td style = \"text-align: right;\">48.168</td><td style = \"text-align: right;\">49.295</td><td style = \"text-align: right;\">47.595</td><td style = \"text-align: left;\">2024-01-02T05:00:00</td><td style = \"text-align: right;\">680131</td></tr><tr><td class = \"rowNumber\" style = \"font-weight: bold; text-align: right;\">2</td><td style = \"text-align: right;\">3.20823e8</td><td style = \"text-align: right;\">47.6677</td><td style = \"text-align: right;\">47.485</td><td style = \"text-align: right;\">47.569</td><td style = \"text-align: right;\">48.1841</td><td style = \"text-align: right;\">47.32</td><td style = \"text-align: left;\">2024-01-03T05:00:00</td><td style = \"text-align: right;\">493455</td></tr><tr><td class = \"rowNumber\" style = \"font-weight: bold; text-align: right;\">3</td><td style = \"text-align: right;\">3.05489e8</td><td style = \"text-align: right;\">48.0888</td><td style = \"text-align: right;\">47.767</td><td style = \"text-align: right;\">47.998</td><td style = \"text-align: right;\">48.5</td><td style = \"text-align: right;\">47.508</td><td style = \"text-align: left;\">2024-01-04T05:00:00</td><td style = \"text-align: right;\">454824</td></tr><tr><td class = \"rowNumber\" style = \"font-weight: bold; text-align: right;\">4</td><td style = \"text-align: right;\">4.09571e8</td><td style = \"text-align: right;\">49.0192</td><td style = \"text-align: right;\">48.462</td><td style = \"text-align: right;\">49.097</td><td style = \"text-align: right;\">49.547</td><td style = \"text-align: right;\">48.306</td><td style = \"text-align: left;\">2024-01-05T05:00:00</td><td style = \"text-align: right;\">556255</td></tr><tr><td class = \"rowNumber\" style = \"font-weight: bold; text-align: right;\">5</td><td style = \"text-align: right;\">6.4251e8</td><td style = \"text-align: right;\">51.3375</td><td style = \"text-align: right;\">49.512</td><td style = \"text-align: right;\">52.253</td><td style = \"text-align: right;\">52.275</td><td style = \"text-align: right;\">49.479</td><td style = \"text-align: left;\">2024-01-08T05:00:00</td><td style = \"text-align: right;\">946945</td></tr><tr><td class = \"rowNumber\" style = \"font-weight: bold; text-align: right;\">6</td><td style = \"text-align: right;\">7.72959e8</td><td style = \"text-align: right;\">53.1155</td><td style = \"text-align: right;\">52.401</td><td style = \"text-align: right;\">53.14</td><td style = \"text-align: right;\">54.325</td><td style = \"text-align: right;\">51.69</td><td style = \"text-align: left;\">2024-01-09T05:00:00</td><td style = \"text-align: right;\">1005777</td></tr><tr><td class = \"rowNumber\" style = \"font-weight: bold; text-align: right;\">7</td><td style = \"text-align: right;\">5.3375e8</td><td style = \"text-align: right;\">54.1639</td><td style = \"text-align: right;\">53.616</td><td style = \"text-align: right;\">54.35</td><td style = \"text-align: right;\">54.6</td><td style = \"text-align: right;\">53.489</td><td style = \"text-align: left;\">2024-01-10T05:00:00</td><td style = \"text-align: right;\">751756</td></tr><tr><td class = \"rowNumber\" style = \"font-weight: bold; text-align: right;\">8</td><td style = \"text-align: right;\">5.96737e8</td><td style = \"text-align: right;\">54.5998</td><td style = \"text-align: right;\">54.999</td><td style = \"text-align: right;\">54.822</td><td style = \"text-align: right;\">55.346</td><td style = \"text-align: right;\">53.56</td><td style = \"text-align: left;\">2024-01-11T05:00:00</td><td style = \"text-align: right;\">814181</td></tr><tr><td class = \"rowNumber\" style = \"font-weight: bold; text-align: right;\">9</td><td style = \"text-align: right;\">3.52419e8</td><td style = \"text-align: right;\">54.6709</td><td style = \"text-align: right;\">54.62</td><td style = \"text-align: right;\">54.71</td><td style = \"text-align: right;\">54.97</td><td style = \"text-align: right;\">54.3301</td><td style = \"text-align: left;\">2024-01-12T05:00:00</td><td style = \"text-align: right;\">487143</td></tr><tr><td class = \"rowNumber\" style = \"font-weight: bold; text-align: right;\">10</td><td style = \"text-align: right;\">4.49486e8</td><td style = \"text-align: right;\">56.1219</td><td style = \"text-align: right;\">55.018</td><td style = \"text-align: right;\">56.382</td><td style = \"text-align: right;\">56.835</td><td style = \"text-align: right;\">54.9</td><td style = \"text-align: left;\">2024-01-16T05:00:00</td><td style = \"text-align: right;\">686939</td></tr><tr><td class = \"rowNumber\" style = \"font-weight: bold; text-align: right;\">11</td><td style = \"text-align: right;\">4.74394e8</td><td style = \"text-align: right;\">55.6716</td><td style = \"text-align: right;\">56.347</td><td style = \"text-align: right;\">56.053</td><td style = \"text-align: right;\">56.4707</td><td style = \"text-align: right;\">54.74</td><td style = \"text-align: left;\">2024-01-17T05:00:00</td><td style = \"text-align: right;\">665715</td></tr><tr><td class = \"rowNumber\" style = \"font-weight: bold; text-align: right;\">12</td><td style = \"text-align: right;\">4.9165e8</td><td style = \"text-align: right;\">57.0793</td><td style = \"text-align: right;\">57.26</td><td style = \"text-align: right;\">57.107</td><td style = \"text-align: right;\">57.6</td><td style = \"text-align: right;\">56.107</td><td style = \"text-align: left;\">2024-01-18T05:00:00</td><td style = \"text-align: right;\">722052</td></tr><tr><td class = \"rowNumber\" style = \"font-weight: bold; text-align: right;\">13</td><td style = \"text-align: right;\">5.43304e8</td><td style = \"text-align: right;\">58.5409</td><td style = \"text-align: right;\">57.989</td><td style = \"text-align: right;\">59.491</td><td style = \"text-align: right;\">59.5</td><td style = \"text-align: right;\">57.225</td><td style = \"text-align: left;\">2024-01-19T05:00:00</td><td style = \"text-align: right;\">807786</td></tr><tr><td style = \"text-align: right;\">&vellip;</td><td style = \"text-align: right;\">&vellip;</td><td style = \"text-align: right;\">&vellip;</td><td style = \"text-align: right;\">&vellip;</td><td style = \"text-align: right;\">&vellip;</td><td style = \"text-align: right;\">&vellip;</td><td style = \"text-align: right;\">&vellip;</td><td style = \"text-align: right;\">&vellip;</td><td style = \"text-align: right;\">&vellip;</td></tr><tr><td class = \"rowNumber\" style = \"font-weight: bold; text-align: right;\">266</td><td style = \"text-align: right;\">1.53298e8</td><td style = \"text-align: right;\">145.825</td><td style = \"text-align: right;\">145.05</td><td style = \"text-align: right;\">147.22</td><td style = \"text-align: right;\">147.23</td><td style = \"text-align: right;\">143.72</td><td style = \"text-align: left;\">2025-01-23T05:00:00</td><td style = \"text-align: right;\">1198252</td></tr><tr><td class = \"rowNumber\" style = \"font-weight: bold; text-align: right;\">267</td><td style = \"text-align: right;\">2.31553e8</td><td style = \"text-align: right;\">144.45</td><td style = \"text-align: right;\">148.37</td><td style = \"text-align: right;\">142.62</td><td style = \"text-align: right;\">148.97</td><td style = \"text-align: right;\">141.88</td><td style = \"text-align: left;\">2025-01-24T05:00:00</td><td style = \"text-align: right;\">1737177</td></tr><tr><td class = \"rowNumber\" style = \"font-weight: bold; text-align: right;\">268</td><td style = \"text-align: right;\">8.16689e8</td><td style = \"text-align: right;\">121.424</td><td style = \"text-align: right;\">124.8</td><td style = \"text-align: right;\">118.42</td><td style = \"text-align: right;\">128.4</td><td style = \"text-align: right;\">116.7</td><td style = \"text-align: left;\">2025-01-27T05:00:00</td><td style = \"text-align: right;\">7844278</td></tr><tr><td class = \"rowNumber\" style = \"font-weight: bold; text-align: right;\">269</td><td style = \"text-align: right;\">5.78158e8</td><td style = \"text-align: right;\">123.71</td><td style = \"text-align: right;\">121.81</td><td style = \"text-align: right;\">128.99</td><td style = \"text-align: right;\">129.0</td><td style = \"text-align: right;\">116.25</td><td style = \"text-align: left;\">2025-01-28T05:00:00</td><td style = \"text-align: right;\">4800251</td></tr><tr><td class = \"rowNumber\" style = \"font-weight: bold; text-align: right;\">270</td><td style = \"text-align: right;\">4.41068e8</td><td style = \"text-align: right;\">123.345</td><td style = \"text-align: right;\">126.5</td><td style = \"text-align: right;\">123.7</td><td style = \"text-align: right;\">126.89</td><td style = \"text-align: right;\">120.05</td><td style = \"text-align: left;\">2025-01-29T05:00:00</td><td style = \"text-align: right;\">3655913</td></tr><tr><td class = \"rowNumber\" style = \"font-weight: bold; text-align: right;\">271</td><td style = \"text-align: right;\">3.90601e8</td><td style = \"text-align: right;\">121.537</td><td style = \"text-align: right;\">123.1</td><td style = \"text-align: right;\">124.65</td><td style = \"text-align: right;\">125.0</td><td style = \"text-align: right;\">118.1</td><td style = \"text-align: left;\">2025-01-30T05:00:00</td><td style = \"text-align: right;\">3255490</td></tr><tr><td class = \"rowNumber\" style = \"font-weight: bold; text-align: right;\">272</td><td style = \"text-align: right;\">3.65863e8</td><td style = \"text-align: right;\">123.682</td><td style = \"text-align: right;\">123.78</td><td style = \"text-align: right;\">120.07</td><td style = \"text-align: right;\">127.85</td><td style = \"text-align: right;\">119.19</td><td style = \"text-align: left;\">2025-01-31T05:00:00</td><td style = \"text-align: right;\">2869639</td></tr><tr><td class = \"rowNumber\" style = \"font-weight: bold; text-align: right;\">273</td><td style = \"text-align: right;\">3.66404e8</td><td style = \"text-align: right;\">116.089</td><td style = \"text-align: right;\">114.75</td><td style = \"text-align: right;\">116.66</td><td style = \"text-align: right;\">118.57</td><td style = \"text-align: right;\">113.01</td><td style = \"text-align: left;\">2025-02-03T05:00:00</td><td style = \"text-align: right;\">3399816</td></tr><tr><td class = \"rowNumber\" style = \"font-weight: bold; text-align: right;\">274</td><td style = \"text-align: right;\">2.42321e8</td><td style = \"text-align: right;\">119.031</td><td style = \"text-align: right;\">116.96</td><td style = \"text-align: right;\">118.65</td><td style = \"text-align: right;\">121.2</td><td style = \"text-align: right;\">116.7</td><td style = \"text-align: left;\">2025-02-04T05:00:00</td><td style = \"text-align: right;\">1841195</td></tr><tr><td class = \"rowNumber\" style = \"font-weight: bold; text-align: right;\">275</td><td style = \"text-align: right;\">2.61218e8</td><td style = \"text-align: right;\">123.066</td><td style = \"text-align: right;\">121.76</td><td style = \"text-align: right;\">124.83</td><td style = \"text-align: right;\">125.0</td><td style = \"text-align: right;\">120.76</td><td style = \"text-align: left;\">2025-02-05T05:00:00</td><td style = \"text-align: right;\">1968080</td></tr><tr><td class = \"rowNumber\" style = \"font-weight: bold; text-align: right;\">276</td><td style = \"text-align: right;\">2.48146e8</td><td style = \"text-align: right;\">127.332</td><td style = \"text-align: right;\">127.42</td><td style = \"text-align: right;\">128.68</td><td style = \"text-align: right;\">128.77</td><td style = \"text-align: right;\">125.21</td><td style = \"text-align: left;\">2025-02-06T05:00:00</td><td style = \"text-align: right;\">1855949</td></tr><tr><td class = \"rowNumber\" style = \"font-weight: bold; text-align: right;\">277</td><td style = \"text-align: right;\">2.26631e8</td><td style = \"text-align: right;\">129.063</td><td style = \"text-align: right;\">129.22</td><td style = \"text-align: right;\">129.84</td><td style = \"text-align: right;\">130.37</td><td style = \"text-align: right;\">125.0</td><td style = \"text-align: left;\">2025-02-07T05:00:00</td><td style = \"text-align: right;\">1778758</td></tr></tbody></table></div>"
      ],
      "text/latex": [
       "\\begin{tabular}{r|cccccccc}\n",
       "\t& volume & volume\\_weighted\\_average\\_price & open & close & high & low & timestamp & \\\\\n",
       "\t\\hline\n",
       "\t& Float64 & Float64 & Float64 & Float64 & Float64 & Float64 & DateTime & \\\\\n",
       "\t\\hline\n",
       "\t1 & 4.1117e8 & 48.0662 & 49.244 & 48.168 & 49.295 & 47.595 & 2024-01-02T05:00:00 & $\\dots$ \\\\\n",
       "\t2 & 3.20823e8 & 47.6677 & 47.485 & 47.569 & 48.1841 & 47.32 & 2024-01-03T05:00:00 & $\\dots$ \\\\\n",
       "\t3 & 3.05489e8 & 48.0888 & 47.767 & 47.998 & 48.5 & 47.508 & 2024-01-04T05:00:00 & $\\dots$ \\\\\n",
       "\t4 & 4.09571e8 & 49.0192 & 48.462 & 49.097 & 49.547 & 48.306 & 2024-01-05T05:00:00 & $\\dots$ \\\\\n",
       "\t5 & 6.4251e8 & 51.3375 & 49.512 & 52.253 & 52.275 & 49.479 & 2024-01-08T05:00:00 & $\\dots$ \\\\\n",
       "\t6 & 7.72959e8 & 53.1155 & 52.401 & 53.14 & 54.325 & 51.69 & 2024-01-09T05:00:00 & $\\dots$ \\\\\n",
       "\t7 & 5.3375e8 & 54.1639 & 53.616 & 54.35 & 54.6 & 53.489 & 2024-01-10T05:00:00 & $\\dots$ \\\\\n",
       "\t8 & 5.96737e8 & 54.5998 & 54.999 & 54.822 & 55.346 & 53.56 & 2024-01-11T05:00:00 & $\\dots$ \\\\\n",
       "\t9 & 3.52419e8 & 54.6709 & 54.62 & 54.71 & 54.97 & 54.3301 & 2024-01-12T05:00:00 & $\\dots$ \\\\\n",
       "\t10 & 4.49486e8 & 56.1219 & 55.018 & 56.382 & 56.835 & 54.9 & 2024-01-16T05:00:00 & $\\dots$ \\\\\n",
       "\t11 & 4.74394e8 & 55.6716 & 56.347 & 56.053 & 56.4707 & 54.74 & 2024-01-17T05:00:00 & $\\dots$ \\\\\n",
       "\t12 & 4.9165e8 & 57.0793 & 57.26 & 57.107 & 57.6 & 56.107 & 2024-01-18T05:00:00 & $\\dots$ \\\\\n",
       "\t13 & 5.43304e8 & 58.5409 & 57.989 & 59.491 & 59.5 & 57.225 & 2024-01-19T05:00:00 & $\\dots$ \\\\\n",
       "\t14 & 4.52754e8 & 59.7767 & 60.049 & 59.654 & 60.331 & 59.07 & 2024-01-22T05:00:00 & $\\dots$ \\\\\n",
       "\t15 & 2.94574e8 & 59.4725 & 59.57 & 59.873 & 59.91 & 58.585 & 2024-01-23T05:00:00 & $\\dots$ \\\\\n",
       "\t16 & 5.60271e8 & 61.7176 & 60.304 & 61.362 & 62.849 & 59.938 & 2024-01-24T05:00:00 & $\\dots$ \\\\\n",
       "\t17 & 4.82552e8 & 61.9052 & 62.35 & 61.617 & 62.719 & 60.85 & 2024-01-25T05:00:00 & $\\dots$ \\\\\n",
       "\t18 & 3.89743e8 & 61.1517 & 60.96 & 61.031 & 61.783 & 60.573 & 2024-01-26T05:00:00 & $\\dots$ \\\\\n",
       "\t19 & 3.48703e8 & 61.8646 & 61.232 & 62.465 & 62.489 & 60.907 & 2024-01-29T05:00:00 & $\\dots$ \\\\\n",
       "\t20 & 4.10709e8 & 62.8595 & 62.9 & 62.774 & 63.493 & 62.26 & 2024-01-30T05:00:00 & $\\dots$ \\\\\n",
       "\t21 & 4.53795e8 & 61.5108 & 61.44 & 61.527 & 62.269 & 60.7 & 2024-01-31T05:00:00 & $\\dots$ \\\\\n",
       "\t22 & 3.69146e8 & 62.4717 & 62.1 & 63.027 & 63.191 & 61.65 & 2024-02-01T05:00:00 & $\\dots$ \\\\\n",
       "\t23 & 4.76528e8 & 65.6028 & 63.974 & 66.16 & 66.6 & 63.69 & 2024-02-02T05:00:00 & $\\dots$ \\\\\n",
       "\t24 & 6.79845e8 & 68.6606 & 68.225 & 69.332 & 69.497 & 67.205 & 2024-02-05T05:00:00 & $\\dots$ \\\\\n",
       "\t25 & 6.83011e8 & 67.8475 & 69.63 & 68.223 & 69.754 & 66.3 & 2024-02-06T05:00:00 & $\\dots$ \\\\\n",
       "\t26 & 4.95575e8 & 69.2666 & 68.319 & 70.099 & 70.22 & 67.6 & 2024-02-07T05:00:00 & $\\dots$ \\\\\n",
       "\t27 & 4.06277e8 & 70.0962 & 70.074 & 69.641 & 70.794 & 69.455 & 2024-02-08T05:00:00 & $\\dots$ \\\\\n",
       "\t28 & 4.36131e8 & 71.456 & 70.533 & 72.133 & 72.185 & 70.212 & 2024-02-09T05:00:00 & $\\dots$ \\\\\n",
       "\t29 & 6.13222e8 & 72.8812 & 72.6 & 72.248 & 74.611 & 71.25 & 2024-02-12T05:00:00 & $\\dots$ \\\\\n",
       "\t30 & 6.0258e8 & 71.967 & 70.4 & 72.128 & 73.45 & 69.62 & 2024-02-13T05:00:00 & $\\dots$ \\\\\n",
       "\t$\\dots$ & $\\dots$ & $\\dots$ & $\\dots$ & $\\dots$ & $\\dots$ & $\\dots$ & $\\dots$ &  \\\\\n",
       "\\end{tabular}\n"
      ],
      "text/plain": [
       "\u001b[1m277×8 DataFrame\u001b[0m\n",
       "\u001b[1m Row \u001b[0m│\u001b[1m volume    \u001b[0m\u001b[1m volume_weighted_average_price \u001b[0m\u001b[1m open    \u001b[0m\u001b[1m close   \u001b[0m\u001b[1m high     \u001b[0m\u001b[1m l\u001b[0m ⋯\n",
       "     │\u001b[90m Float64   \u001b[0m\u001b[90m Float64                       \u001b[0m\u001b[90m Float64 \u001b[0m\u001b[90m Float64 \u001b[0m\u001b[90m Float64  \u001b[0m\u001b[90m F\u001b[0m ⋯\n",
       "─────┼──────────────────────────────────────────────────────────────────────────\n",
       "   1 │ 4.1117e8                         48.0662   49.244   48.168   49.295     ⋯\n",
       "   2 │ 3.20823e8                        47.6677   47.485   47.569   48.1841\n",
       "   3 │ 3.05489e8                        48.0888   47.767   47.998   48.5\n",
       "   4 │ 4.09571e8                        49.0192   48.462   49.097   49.547\n",
       "   5 │ 6.4251e8                         51.3375   49.512   52.253   52.275     ⋯\n",
       "   6 │ 7.72959e8                        53.1155   52.401   53.14    54.325\n",
       "   7 │ 5.3375e8                         54.1639   53.616   54.35    54.6\n",
       "   8 │ 5.96737e8                        54.5998   54.999   54.822   55.346\n",
       "   9 │ 3.52419e8                        54.6709   54.62    54.71    54.97      ⋯\n",
       "  10 │ 4.49486e8                        56.1219   55.018   56.382   56.835\n",
       "  11 │ 4.74394e8                        55.6716   56.347   56.053   56.4707\n",
       "  ⋮  │     ⋮                    ⋮                   ⋮        ⋮        ⋮        ⋱\n",
       " 268 │ 8.16689e8                       121.424   124.8    118.42   128.4     1\n",
       " 269 │ 5.78158e8                       123.71    121.81   128.99   129.0     1 ⋯\n",
       " 270 │ 4.41068e8                       123.345   126.5    123.7    126.89    1\n",
       " 271 │ 3.90601e8                       121.537   123.1    124.65   125.0     1\n",
       " 272 │ 3.65863e8                       123.682   123.78   120.07   127.85    1\n",
       " 273 │ 3.66404e8                       116.089   114.75   116.66   118.57    1 ⋯\n",
       " 274 │ 2.42321e8                       119.031   116.96   118.65   121.2     1\n",
       " 275 │ 2.61218e8                       123.066   121.76   124.83   125.0     1\n",
       " 276 │ 2.48146e8                       127.332   127.42   128.68   128.77    1\n",
       " 277 │ 2.26631e8                       129.063   129.22   129.84   130.37    1 ⋯\n",
       "\u001b[36m                                                  3 columns and 256 rows omitted\u001b[0m"
      ]
     },
     "execution_count": 4,
     "metadata": {},
     "output_type": "execute_result"
    }
   ],
   "source": [
    "out_of_sample_dataset[\"NVDA\"]"
   ]
  },
  {
   "cell_type": "markdown",
   "id": "09159593-3d5a-46ef-9b17-6760f2c8202e",
   "metadata": {},
   "source": [
    "Not all tickers in our dataset have the maximum number of trading days for various reasons, e.g., acquisition or de-listing events. Let's collect only those tickers with the maximum number of traditional days. First, let's compute the number of records for a company that we know has a maximum value, e.g., `AAPL,` and save that value in the `maximum_number_trading_days` variable:"
   ]
  },
  {
   "cell_type": "code",
   "execution_count": 5,
   "id": "bee2f30d-dd16-45d9-876b-50de983070e6",
   "metadata": {},
   "outputs": [],
   "source": [
    "maximum_number_trading_days = out_of_sample_dataset[\"AAPL\"] |> nrow;"
   ]
  },
  {
   "cell_type": "markdown",
   "id": "996a5319-3eb5-4d8f-920b-e6f4b37572eb",
   "metadata": {},
   "source": [
    "Then, iterate through our data and collect only tickers with `maximum_number_trading_days` records. Save that data in the `dataset::Dict{String,DataFrame}` variable:"
   ]
  },
  {
   "cell_type": "code",
   "execution_count": 6,
   "id": "08011c73-056d-4876-bce4-1110b5dc82a8",
   "metadata": {},
   "outputs": [],
   "source": [
    "dataset = Dict{String,DataFrame}();\n",
    "for (ticker,data) ∈ out_of_sample_dataset\n",
    "    if (nrow(data) == maximum_number_trading_days)\n",
    "        dataset[ticker] = data;\n",
    "    end\n",
    "end"
   ]
  },
  {
   "cell_type": "markdown",
   "id": "b3ea2a00-bd38-461d-a181-3bc767d24d64",
   "metadata": {},
   "source": [
    "Lastly, let's get a sorted list of firms that we have in cleaned up `dataset` and save it in the `list_of_all_tickers::Array{String,1}` array"
   ]
  },
  {
   "cell_type": "code",
   "execution_count": 7,
   "id": "ee4ba89a-94c8-44ed-ab70-978cab734273",
   "metadata": {},
   "outputs": [],
   "source": [
    "list_of_all_tickers = keys(dataset) |> collect |> x->sort(x);"
   ]
  },
  {
   "cell_type": "markdown",
   "id": "a24de705-bb26-4a0a-bda2-cc1a58233e98",
   "metadata": {},
   "source": [
    "We compute the expected (annualized) log growth rate by passing the `dataset` and the entire list of firms we have in the dataset (held in the $N\\times{1}$ `list_of_all_tickers` array) to the [log_growth_matrix(...) method](https://varnerlab.github.io/VLQuantitativeFinancePackage.jl/dev/equity/#VLQuantitativeFinancePackage.log_growth_matrix). \n",
    "* The result is stored in the `all_firms_return_matrix::Array{Float64,2}` variable, a $T-1\\times{N}$ array of log return values. Each row of `all_firms_return_matrix` corresponds to a time value, while each column corresponds to a firm:"
   ]
  },
  {
   "cell_type": "code",
   "execution_count": 8,
   "id": "1ac1c146-624c-4be8-935d-93647a64bcfe",
   "metadata": {},
   "outputs": [],
   "source": [
    "all_firms_excess_return_matrix = log_growth_matrix(dataset, list_of_all_tickers, \n",
    "    Δt = Δt, risk_free_rate = risk_free_rate);"
   ]
  },
  {
   "cell_type": "markdown",
   "id": "69b11dea-6534-4e5e-94db-95842ae92c14",
   "metadata": {},
   "source": [
    "Extract the growth rate for your `ticker::String` of interest, and save this in the `Rᵢ::Array{Float64,1}` array. This is the observed _out-of-sample_ data."
   ]
  },
  {
   "cell_type": "code",
   "execution_count": 9,
   "id": "406ab396-ac21-40d5-b776-c2dd92af6132",
   "metadata": {},
   "outputs": [],
   "source": [
    "Rᵢ = findfirst(x->x==ticker, list_of_all_tickers) |> i-> all_firms_excess_return_matrix[:,i];"
   ]
  },
  {
   "cell_type": "markdown",
   "id": "954c22fe-1042-4640-b234-a3d9ddb3c138",
   "metadata": {},
   "source": [
    "#### Load the HMM model\n",
    "We saved the Markov model, and the Jump Markov model along with some other data when we explored the in-sample performance of the approach. Let's load that file here to grab those model instances. We start by specifying the `path_to_save_file::String` variable:"
   ]
  },
  {
   "cell_type": "code",
   "execution_count": 10,
   "id": "3e6f27d5-667f-4c1e-9f25-0f23193f902f",
   "metadata": {},
   "outputs": [],
   "source": [
    "path_to_save_file = joinpath(_PATH_TO_DATA,\"HMM-WJ-$(ticker)-daily-aggregate.jld2\");"
   ]
  },
  {
   "cell_type": "markdown",
   "id": "01749671-3f75-42f2-a92b-2aacef972b41",
   "metadata": {},
   "source": [
    "Then we load the [`HDF5` binary saved file](https://en.wikipedia.org/wiki/Hierarchical_Data_Format) holding our data from the previous example located using the [load(...) function exported by the JLD2.jl package to read the binary save file](https://github.com/JuliaIO/JLD2.jl.git). This will load up the saved data into the `saved_state_dictionary::Dict{String, Any}` variable"
   ]
  },
  {
   "cell_type": "code",
   "execution_count": 11,
   "id": "0471db80-be12-488f-96c1-0026d22d568f",
   "metadata": {},
   "outputs": [
    {
     "data": {
      "text/plain": [
       "Dict{String, Any} with 9 entries:\n",
       "  \"in_sample_decoded_archi… => [-0.388863 -0.353871 … -0.158217 -0.566584; 1.46…\n",
       "  \"insampledataset\"         => [-0.62664, 0.840526, 0.163892, -0.0102337, 0.258…\n",
       "  \"stationary\"              => Categorical{Float64, Vector{Float64}}(…\n",
       "  \"model\"                   => MyHiddenMarkovModel([1, 2, 3, 4, 5, 6, 7, 8, 9, …\n",
       "  \"jump_model\"              => MyHiddenMarkovModelWithJumps([1, 2, 3, 4, 5, 6, …\n",
       "  \"decode\"                  => Dict{Int64, Normal}(5=>Normal{Float64}(μ=-3.1106…\n",
       "  \"encoded_archive\"         => [25 11 … 50 58; 53 55 … 43 70; … ; 68 22 … 1 17;…\n",
       "  \"encoded_archive_with_ju… => [28 29 … 33 25; 64 44 … 19 53; … ; 47 50 … 65 63…\n",
       "  \"in_sample_decoded_archi… => [-0.609197 -1.89012 … 0.556558 0.993042; 0.69013…"
      ]
     },
     "execution_count": 11,
     "metadata": {},
     "output_type": "execute_result"
    }
   ],
   "source": [
    "saved_state_dict = load(path_to_save_file)"
   ]
  },
  {
   "cell_type": "markdown",
   "id": "657f6133-bb7d-478e-afd8-5a9b186e041f",
   "metadata": {},
   "source": [
    "## Task 1: Compute the encoded out-of-sample model prediction\n",
    "In this task, you will sample either the `model::MyHiddenMarkovModel` or the `model::MyHiddenMarkovModelWithJumps` instance to generate a family of _encoded_ state sequences, i.e., a series of discrete state values $s_{j}\\in\\mathcal{S}$ where each sample trajectory starts from a draw from the stationary distribution $\\bar\\pi$. \n",
    "\n",
    "We computed the stationary distribution $\\bar\\pi$ in the worked example. Here we access the saved value from the `saved_state_dict::Dict{String, Any}` dictionary using the `stationary::String` key. We save the stationary distribution in the `π̄::Categorical{Float64, Vector{Float64}}` variable:"
   ]
  },
  {
   "cell_type": "code",
   "execution_count": 12,
   "id": "f23f180e-bcd6-43bc-81e9-a76f8481d24d",
   "metadata": {
    "scrolled": true
   },
   "outputs": [
    {
     "data": {
      "text/plain": [
       "2514-element Vector{Float64}:\n",
       " -0.6266399670984476\n",
       "  0.8405262386945092\n",
       "  0.16389199696256232\n",
       " -0.010233691939436122\n",
       "  0.25823420862761537\n",
       " -1.378088774125505\n",
       "  0.32241271641711466\n",
       "  2.0009590819913137\n",
       " -0.322149763808254\n",
       " -0.43598073791618397\n",
       " -0.07579593758943923\n",
       "  0.3992882778085264\n",
       " -1.99925091651247\n",
       "  ⋮\n",
       "  2.473645326630101\n",
       "  2.1846892155556126\n",
       " -1.3071088568715163\n",
       "  1.300092524780104\n",
       "  1.0882119750549104\n",
       " -1.2691490306414208\n",
       " -0.2817789495022863\n",
       "  1.3302918641120702\n",
       "  0.6544841382666371\n",
       "  0.307245721134233\n",
       "  0.48928417021417847\n",
       " -0.7889919650587696"
      ]
     },
     "execution_count": 12,
     "metadata": {},
     "output_type": "execute_result"
    }
   ],
   "source": [
    "saved_state_dict[\"insampledataset\"]"
   ]
  },
  {
   "cell_type": "code",
   "execution_count": 13,
   "id": "3b279650-c9b3-40c9-9b92-eeb9aa38eed9",
   "metadata": {},
   "outputs": [],
   "source": [
    "π̄ = saved_state_dict[\"stationary\"];"
   ]
  },
  {
   "cell_type": "markdown",
   "id": "2ce3e4b6-aa8c-4e88-82cf-9fdcdcc2fae5",
   "metadata": {},
   "source": [
    "Let's now generate the `encoded_archive::Array{Int64,2}` array, which holds `number_of_paths` discrete state trajectories each of length `number_of_steps` by using some fantastic _syntactic-sugar in Julia_:\n",
    "* Internally, we've created a function `(m::MyHiddenMarkovModelWithJumps)(start::Int64, steps::Int64) = _simulate(m, start, steps)` which provides a short-cut syntax to sampling the `model::MyHiddenMarkovModelWithJumps` instance, where the sampling logic is encoded in the private `_simulate(m, start, steps)` function. We have a similar function for the `m::MyHiddenMarkovModel` type.\n",
    "\n",
    "After declaring how many sample paths we want (specified in the `number_of_paths::Int64` variable), how many steps we are going to take (specified in the `number_of_steps::Int64` variable), and initializing the `encoded_archive::Array{Int64,2}` array which will store the model samples, we populate the sample array using a nested [`for-loop`](https://docs.julialang.org/en/v1/manual/variables-and-scoping/#Loops-and-Comprehensions):\n",
    "* The outer loop iterates over the sample paths, the `i` index, where we generate an initial state for each sample path by drawing a sample from the $\\bar\\pi$ distribution. We save the initial state in the `start_state::Int64` variable.\n",
    "* The inner loop iterates over the time steps in each sample path, the `j` index, where we generate a `number_of_steps`$\\times$ `1` array of discrete state values $s\\in\\mathcal{S}$ in the `tmp::Array{Int64,1}` array. We then add the values of the `tmp` array to the `encoded_archive` array, where the time steps are on the rows and the sample paths are on the columns."
   ]
  },
  {
   "cell_type": "code",
   "execution_count": 14,
   "id": "69a57ccc-9510-4a04-8c1e-ae4c8304a129",
   "metadata": {},
   "outputs": [
    {
     "data": {
      "text/plain": [
       "276×100 Matrix{Int64}:\n",
       " 25  68  53  25  41  62  24  79  27  …  59  29  47  49  12  62  26   5   6\n",
       " 34  68  35  47  35   7  26  13  55     64  10  31  66   9  38  61   4  24\n",
       "  9  46  42  71  13   1  35  43  40     33  30  19   7  70   6  60  21  13\n",
       " 18  56  38  74  11   1  36  60   6      4  29  14  14  77   9  44  65  36\n",
       " 62  14  30  68  24   2  19  53  71     11  29  68  24  12  70  33  66  40\n",
       " 17  57  58  13  62   1  46  77  59  …  16  60  78  70  21  77  66  35   9\n",
       "  2  73  12   2   2   4  27  61  16      9  38  56  26  47  74  43  23  19\n",
       " 61  29   9  53   5  80   4  55  62     66  64  38  78  47  45  25  45  71\n",
       " 25  31  78   5  29  37  80  61  68     39  75  46  69  26  18  18  80  58\n",
       " 52  33  70  76   2  79  73  15  61     52  68  71  55   3  31  57  79  54\n",
       " 45  65  24  76   9  36  79  22  76  …  56  15  26  19  28  30  17  13  33\n",
       " 28  37  72   7  67  11  77  20  66     41  66  39  13  18  64  66  66  70\n",
       " 18  53  61  14  49  50  65  56  27     35  20  37  11  15  40  69  60   5\n",
       "  ⋮                   ⋮              ⋱                   ⋮              \n",
       " 19  68  35  63  62  50  25  65  16     76  19  18  34  50  50  56  60  45\n",
       " 48  22  20  41  50  15  47  65  28  …  76  19   3  39  15  10  34  48  47\n",
       " 58  40  22  39  12  38  10  33  18     17  21  61  52  57   6  57  28  44\n",
       " 60  69  40  13  74  36  56  19   3     66  64  26  71  15   7  67  64  77\n",
       " 64  55   6  65  70  60  31  71  76     72  77  78  24  11   1  22  58  71\n",
       " 24  58  13  45  65  38  63  39  71     52  69  70  38  16  20  45  16   4\n",
       " 30  54  63  55  55  36  52  19  37  …  50  14  48  64   9  67  34  27  11\n",
       " 53  51  26  63  19  54  11  70  64     31  43  61  70  56  50   3   4  55\n",
       " 36  39  24  42  14   1  24  46  42      9  29  59  46  59  65  46  53  11\n",
       " 71  24  70  52  19   2  59   4  26     66  44   3   4  64  34  27   7  36\n",
       " 70  22  51  71  12  78  59   3  78     75  15  68   8  29  21   4   4  40\n",
       " 26  40  66  70  73  79  28  24  56  …  76  56  74  39  70  29  80  48  41"
      ]
     },
     "execution_count": 14,
     "metadata": {},
     "output_type": "execute_result"
    }
   ],
   "source": [
    "encoded_archive = let\n",
    "    \n",
    "    model = saved_state_dict[\"model\"]; # grab which ever version of the model you want\n",
    "    number_of_steps = length(Rᵢ); # how much data do we have?\n",
    "    encoded_archive = Array{Int64,2}(undef, number_of_steps, number_of_paths);\n",
    "    \n",
    "    for i ∈ 1:number_of_paths\n",
    "        start_state = rand(π̄);\n",
    "        tmp = model(start_state, number_of_steps) # generates state sequence of length number_of_steps\n",
    "        for j ∈ 1:number_of_steps\n",
    "            encoded_archive[j,i] = tmp[j]\n",
    "        end\n",
    "    end\n",
    "    encoded_archive\n",
    "end"
   ]
  },
  {
   "cell_type": "markdown",
   "id": "74af8935-6994-4a0e-8958-78d6ba9bb9ef",
   "metadata": {},
   "source": [
    "## Task 2: Decode the out-of-sample model prediction\n",
    "Now that we have populated the `encoded_archive::Array{Int64,2}` array, which holds the hidden discrete states, we need to convert the discrete states back into floating point excess growth rate values. We do this using a _decoding model_ which transforms the encoded values into growth rate values. We generated (and persisted) the _decode model_ in the worked example. \n",
    "* Load the _decode model_ from the `saved_state_dict::Dict{String, Any}` dictionary using the `decode::String` key. We save the _decode model_ in the `decode_distribution_model::Dict{Int64, Normal}` dictionary."
   ]
  },
  {
   "cell_type": "code",
   "execution_count": 15,
   "id": "6b9a746a-da0a-4b7d-8c27-92ad29a0198b",
   "metadata": {},
   "outputs": [],
   "source": [
    "decode_distribution_model = saved_state_dict[\"decode\"];"
   ]
  },
  {
   "cell_type": "markdown",
   "id": "1422919e-1313-44f9-9ef9-cafe1e813ba9",
   "metadata": {},
   "source": [
    "The `decode_distribution_model::Dict{Int64, Normal}` dictionary holds a [Normal distribution model](https://juliastats.org/Distributions.jl/stable/univariate/#Distributions.Normal) for each state $s\\in\\mathcal{S}$. We sample these distributions to generate a value of the excess growth rate that corresponds to a particular discrete state `s.` Thus, to decode the encoded sample array, we iterate through the `encoded_archive` array and sample the _decode model_ that is associated with $s\\in\\mathcal{S}$, and then save that value in the `out_of_sample_decoded_archive::Array{Float64,2}` array using a nested [`for-loop`](https://docs.julialang.org/en/v1/manual/variables-and-scoping/#Loops-and-Comprehensions):\n",
    "* The outer loop iterates over the sample paths, the `i` index, while the inner loop, the `j` index, iterates over the time steps. Inside the inner loop, we select a state `s,` access the corresponding _Normal decode model_ for state `s,` (the `j,i` element of the `encoded_archive`) and sample that model [using a `rand(...)` method exported by the  Distributions.jl package](https://juliastats.org/Distributions.jl/stable/univariate/#Base.rand-Tuple{AbstractRNG,%20UnivariateDistribution}) in combination with the [Julia pipe `|>` operator](https://docs.julialang.org/en/v1/manual/functions/#Function-composition-and-piping).\n",
    "\n",
    "The `out_of_sample_decoded_archive::Array{Float64,2}` holds values for the excess growth rate for each time step and sample path."
   ]
  },
  {
   "cell_type": "code",
   "execution_count": 16,
   "id": "109e52ba-e33f-4a14-8702-67867a4999ee",
   "metadata": {},
   "outputs": [
    {
     "data": {
      "text/plain": [
       "276×100 Matrix{Float64}:\n",
       " -0.601174    1.79909     0.695077   …  -0.537277  -3.0448     -2.80388\n",
       " -0.12134     1.85508    -0.100088       1.19476   -3.4968     -0.679351\n",
       " -2.14955     0.358131    0.19674        1.14121   -0.859587   -1.5777\n",
       " -1.10018     0.856382    0.0334369      0.258881   1.52893    -0.0328848\n",
       "  1.29417    -1.49482    -0.315236      -0.189257   1.59454     0.121932\n",
       " -1.20365     0.916398    0.97397    …   1.63813   -0.0746399  -2.17172\n",
       " -4.70769     2.57095    -1.74098        0.225452  -0.750707   -1.0062\n",
       "  1.19626    -0.379503   -2.07623       -0.593504   0.320584    2.24686\n",
       " -0.572816   -0.263489    4.17488       -1.07917    5.46741     0.973895\n",
       "  0.663492   -0.216988    2.14002        0.915584   4.97057     0.738811\n",
       "  0.3068      1.52262    -0.671388   …  -1.17972   -1.53762    -0.185235\n",
       " -0.41101     0.0136272   2.41188        1.63211    1.63665     2.12363\n",
       " -1.1241      0.690546    1.23025        1.97849    1.08955    -3.14662\n",
       "  ⋮                                  ⋱                         \n",
       " -0.981914    1.83546    -0.0878894      0.833341   1.12103     0.334152\n",
       "  0.441282   -0.75107    -0.913661   …  -0.107362   0.453202    0.405786\n",
       "  1.00826     0.113954   -0.795665       0.912521  -0.423014    0.265364\n",
       "  1.14025     2.02255     0.111431       1.68469    1.41056     3.70577\n",
       "  1.39699     0.764668   -2.77728       -0.794858   0.979834    2.29277\n",
       " -0.640415    0.997459   -1.57549        0.312235  -1.28241    -3.39155\n",
       " -0.316361    0.751453    1.33628    …  -0.143444  -0.495343   -1.84141\n",
       "  0.684485    0.572026   -0.516997      -3.95966   -3.43975     0.783684\n",
       " -0.0563004   0.0837275  -0.67949        0.340605   0.699421   -1.84913\n",
       "  2.28445    -0.650166    2.15292       -0.505128  -2.58487    -0.0409685\n",
       "  2.08931    -0.752597    0.604086      -3.5403    -3.45791     0.121092\n",
       " -0.548579    0.106724    1.61729    …  11.0607     0.455866    0.138835"
      ]
     },
     "execution_count": 16,
     "metadata": {},
     "output_type": "execute_result"
    }
   ],
   "source": [
    "out_of_sample_decoded_archive = let\n",
    "\n",
    "    number_of_steps = length(Rᵢ); # average number of trading days per year\n",
    "    \n",
    "    out_of_sample_decoded_archive = Array{Float64,2}(undef, number_of_steps, number_of_paths);\n",
    "    for i ∈ 1:number_of_paths\n",
    "        for j ∈ 1:number_of_steps\n",
    "            s = encoded_archive[j,i];\n",
    "            out_of_sample_decoded_archive[j,i] =  decode_distribution_model[s] |> d -> rand(d)\n",
    "        end\n",
    "    end\n",
    "    out_of_sample_decoded_archive # actual excess growth value (not internal state variables)\n",
    "end"
   ]
  },
  {
   "cell_type": "markdown",
   "id": "1e6801e8-ce21-4fa5-b110-462d8316e3a9",
   "metadata": {},
   "source": [
    "## Task 3: How good is the out-of-sample model prediction?\n",
    "Now that we have populated the `out_of_sample_decoded_archive::Array{Float64,2}` array with excess growth rate values, we can test how well the out-of-sample simulations replicate the properties of the out-of-sample observations. \n",
    "* First, let's plot the simulated distributions versus the observed out-of-sample excess growth distributions and examine them to get a qualitative idea of how close the simulations are to the observed values. \n",
    "* Then, we'll [use the `ApproximateTwoSampleKSTest` method exported by the HypothesisTests.jl package](https://github.com/JuliaStats/HypothesisTests.jl) to compute the fraction of trials that appear to be drawn from the same distribution."
   ]
  },
  {
   "cell_type": "markdown",
   "id": "25f483fe-bae2-49b0-95ec-32e4194929be",
   "metadata": {},
   "source": [
    "`Unhide` the code block below to see how we plotted the observed and simulated excess annual growth rate distribution for the out-of-sample data.\n",
    "* __Summary__: The simulated out-of-sample excess growth rate distributions (blue lines) and the observed distribution (red line) are qualitatively similar; however, the simulated distributions appear to be more heavily tailed, with more density for near-zero growth rates and broader tails. "
   ]
  },
  {
   "cell_type": "code",
   "execution_count": 17,
   "id": "f30cb814-63e4-42c9-a88b-9b85fc6ee67e",
   "metadata": {},
   "outputs": [
    {
     "data": {
      "text/plain": [
       "\"/Users/abdulrahmanalswaidan/Desktop/Project-Repos/HMM-withJumps/figs/Fig-SPY-ExcessGrowthRate-Probability-Density-HMM-out-of-sample.svg\""
      ]
     },
     "execution_count": 17,
     "metadata": {},
     "output_type": "execute_result"
    }
   ],
   "source": [
    "let\n",
    "    q = plot(); \n",
    "    skip = 10;\n",
    "    N = 1:skip:number_of_paths |> collect |> length;\n",
    "    density!(out_of_sample_decoded_archive[:,1], lw=2, c=:deepskyblue1, label=\"Simulated N = $(number_of_paths) ($(N) shown)\", \n",
    "        bg=\"gray95\", background_color_outside=\"white\", framestyle = :box, fg_legend = :transparent, legend=:topleft)\n",
    "    for i ∈ 2:skip:number_of_paths\n",
    "        density!(out_of_sample_decoded_archive[:,i], lw=1, c=:deepskyblue1, label=\"\")\n",
    "    end\n",
    "    density!(Rᵢ, c=:red, lw=3, label=\"Observed\")\n",
    "    xlabel!(\"Excess growth rate daily $(ticker) (1/year)\", fontsize=18)\n",
    "    ylabel!(\"Probability Density (AU)\", fontsize=18)\n",
    "    current()\n",
    "\n",
    "    savefig(joinpath(_PATH_TO_FIGURES, \"Fig-$(ticker)-ExcessGrowthRate-Probability-Density-HMM-out-of-sample.svg\"));\n",
    "end"
   ]
  },
  {
   "cell_type": "markdown",
   "id": "dd3eb3dd-d67f-4463-b74e-3da2fd2bbcc0",
   "metadata": {},
   "source": [
    "### Check: Mean and standard deviation of the out-of-sample data\n",
    "The distributions above _look similar_ but let's dig deeper. For example, is the mean of out-of-sample predicted excess growth rate distribution (or the standard deviation) consistent with the observed data? Let's check if the simulated values bound the observed mean (and standard deviation) for the out-of-sample data.\n",
    "\n",
    "#### Simulated mean and standard deviation\n",
    "Compute the mean over the time dimension (rows) of the `out_of_sample_decoded_archive` array using [the Julia `mean(...)` function, where the `dim = 1` argument allows us to compute the mean over the rows](https://docs.julialang.org/en/v1/stdlib/Statistics/#Statistics.mean). \n",
    "* This will return `number_of_paths` values for the mean (a value for each sample path), so we compute the mean over the sample paths [using the `mean(...)` function again](https://docs.julialang.org/en/v1/stdlib/Statistics/#Statistics.mean) in combination with the [Julia pipe `|>` operator](https://docs.julialang.org/en/v1/manual/functions/#Function-composition-and-piping). We save the simulated sample mean as the `μ̄::Float64` variable:"
   ]
  },
  {
   "cell_type": "code",
   "execution_count": 18,
   "id": "50478b7d-103d-4198-b3a0-7960630ad08e",
   "metadata": {},
   "outputs": [
    {
     "name": "stdout",
     "output_type": "stream",
     "text": [
      "Out-of-sample estimated simulated mean: μ̄ = 0.0667956459836448\n"
     ]
    }
   ],
   "source": [
    "μ̄ = mean(out_of_sample_decoded_archive, dims=1) |> x -> mean(x); # average mean\n",
    "println(\"Out-of-sample estimated simulated mean: μ̄ = $(μ̄)\")"
   ]
  },
  {
   "cell_type": "markdown",
   "id": "a22a9419-f33f-4e01-a2a4-f5b6ce493512",
   "metadata": {},
   "source": [
    "Similarly, we compute the expected standard deviation over time and then over the `number_of_paths` sample paths using [the `std(...)` function with the `dim = 1` argument](https://docs.julialang.org/en/v1/stdlib/Statistics/#Statistics.std) in combination with [the `mean(...)` function again](https://docs.julialang.org/en/v1/stdlib/Statistics/#Statistics.mean) and the [Julia pipe `|>` operator](https://docs.julialang.org/en/v1/manual/functions/#Function-composition-and-piping). We save the simulated sample standard deviation as the `σ̄::Float64` variable:"
   ]
  },
  {
   "cell_type": "code",
   "execution_count": 19,
   "id": "d42ed1cb-6d7c-4cad-9bf3-e9db8e429f83",
   "metadata": {},
   "outputs": [
    {
     "name": "stdout",
     "output_type": "stream",
     "text": [
      "Out-of-sample estimated simulated standard deviation: σ̄ = 2.1428175161015686\n"
     ]
    }
   ],
   "source": [
    "σ̄ = std(out_of_sample_decoded_archive, dims=1) |> x -> mean(x); # average standard deviation\n",
    "println(\"Out-of-sample estimated simulated standard deviation: σ̄ = $(σ̄)\")"
   ]
  },
  {
   "cell_type": "markdown",
   "id": "9c2b1607-3a81-4509-ab28-b50cadbd7e2b",
   "metadata": {},
   "source": [
    "#### Comparison with observed values\n",
    "Next, let's compute the observed mean and standard deviation values from the `out_of_sample_dataset` using the [Julia `mean(...)`](https://docs.julialang.org/en/v1/stdlib/Statistics/#Statistics.mean) and [`std(...)` functions exported by Statistics.jl](https://docs.julialang.org/en/v1/stdlib/Statistics/#Statistics.mean). Save these values in the `μ::Float64` and `σ::Float64` variables:"
   ]
  },
  {
   "cell_type": "code",
   "execution_count": 20,
   "id": "0db9aa55-357c-43e1-aac7-e1eb64e6593d",
   "metadata": {},
   "outputs": [],
   "source": [
    "μ = mean(Rᵢ, dims=1) |> first; # observed growth rate from data\n",
    "σ = std(Rᵢ, dims=1) |> first; # observed standard deviation from data"
   ]
  },
  {
   "cell_type": "markdown",
   "id": "6476fe7a-f776-47b3-8d9e-162789b1295e",
   "metadata": {},
   "source": [
    "__Test I__: Let's test whether the observed out-of-sample excess growth rate mean is contained in a $\\pm$ `SEM` range around the mean computed over the simulations samples, i.e.., we test the condition: \n",
    "$$\n",
    "\\mu \\in R_{\\mu} \\equiv \\left[\\bar{\\mu}-\\frac{\\bar{\\sigma}}{\\sqrt{N}},\\,\\bar{\\mu}+\\frac{\\bar{\\sigma}}{\\sqrt{N}}\\right]\n",
    "$$\n",
    "using the [Julia @assert macro](https://docs.julialang.org/en/v1/base/base/#Base.@assert). If $\\mu\\notin{R}_{\\mu}$, i.e., the observed mean is not bounded by $\\pm$`SEM`, then an [AssertionError is thrown](https://docs.julialang.org/en/v1/base/base/#Core.AssertionError), where `SEM` denotes the [standard error of the mean](https://en.wikipedia.org/wiki/Standard_error)."
   ]
  },
  {
   "cell_type": "code",
   "execution_count": 21,
   "id": "9cb3d618-2a25-46d6-9a39-fe4aa42b27d1",
   "metadata": {},
   "outputs": [
    {
     "name": "stdout",
     "output_type": "stream",
     "text": [
      "R = (-0.14748610562651204, 0.2810773975938017) and μ = 0.18042356958711533, μ̄ = 0.0667956459836448\n"
     ]
    }
   ],
   "source": [
    "let\n",
    "    R = (μ̄ - σ̄/√number_of_paths, μ̄ + σ̄/√number_of_paths);\n",
    "    println(\"R = $(R) and μ = $(μ), μ̄ = $(μ̄)\")\n",
    "    @assert R[1] ≤ μ && μ ≤ R[2]\n",
    "end"
   ]
  },
  {
   "cell_type": "code",
   "execution_count": 22,
   "id": "1ab3cfd1-ec92-4afa-98c8-f186e5f16a78",
   "metadata": {},
   "outputs": [
    {
     "name": "stdout",
     "output_type": "stream",
     "text": [
      "The percentage difference between the observed and simulated mean is: 62.978425636683056%\n"
     ]
    }
   ],
   "source": [
    "let\n",
    "    ϵ = 100*abs(((μ - μ̄)/μ)); # percentage difference in std\n",
    "    println(\"The percentage difference between the observed and simulated mean is: $(ϵ)%\")\n",
    "end"
   ]
  },
  {
   "cell_type": "markdown",
   "id": "84060076-d831-42a9-9b8f-519ce16416a4",
   "metadata": {},
   "source": [
    "__Test II__: Next, test the simulated versus observed standard deviation of the excess growth, i.e., the volatility for the out-of-sample values. In this case, we test the conditions:\n",
    "$$\n",
    "\\sigma\\in R_{\\sigma} \\equiv \\left[\\sqrt\\frac{(N-1)\\cdot\\bar{\\sigma}^2}{\\chi_{r}^2},\\,\\sqrt{\\frac{(N-1)\\cdot\\bar{\\sigma}^2}{\\chi_{l}^2}}\\,\\right]\n",
    "$$\n",
    "using the [Julia @assert macro](https://docs.julialang.org/en/v1/base/base/#Base.@assert). If $\\sigma\\notin{R}_{\\sigma}$, i.e., the observed standard deviation is not bounded by $\\pm\\sqrt{(N-1)\\cdot{\\bar{\\sigma}^{2}}/\\chi_{\\star}^{2}}$, then an [AssertionError is thrown](https://docs.julialang.org/en/v1/base/base/#Core.AssertionError). \n",
    "* Where $\\chi_{\\star}^{2}$ denotes the $\\star=\\left\\{l,r\\right\\}$ left (`l`) or right (`r`) tail of the [chi-squared distribution with $N − 1$ degrees of freedom](https://en.wikipedia.org/wiki/Chi-squared_distribution). We use [the `Chisq(...)` distribution model exported by Distributions.jl](https://github.com/JuliaStats/Distributions.jl) in combination with [the `quantile(...)` function also exported by the Distributions.jl package](https://juliastats.org/Distributions.jl/stable/univariate/#Statistics.quantile-Tuple{UnivariateDistribution,%20Real}) to compute the $\\chi_{\\star}^{2}$ values:"
   ]
  },
  {
   "cell_type": "code",
   "execution_count": 23,
   "id": "e37b3f69-6b4a-44e1-9613-43c9b83bfe65",
   "metadata": {},
   "outputs": [
    {
     "name": "stdout",
     "output_type": "stream",
     "text": [
      "For CI = 99.0%, the (χₗ,χᵣ) = (70.0648949253998,135.80672317102676)\n"
     ]
    }
   ],
   "source": [
    "α = 0.99;\n",
    "ᾱ = (1 - α);\n",
    "chi_d = Chisq(number_of_paths);\n",
    "χₗ = quantile(chi_d,ᾱ);\n",
    "χᵣ = quantile(chi_d,α);\n",
    "println(\"For CI = $(100*α)%, the (χₗ,χᵣ) = ($(χₗ),$(χᵣ))\")"
   ]
  },
  {
   "cell_type": "markdown",
   "id": "b5ab93e6-ae9a-4edb-a63d-dde964cb2ae3",
   "metadata": {},
   "source": [
    "Finally, check if $\\sigma\\in{R}_{\\sigma}$ using the [Julia @assert macro](https://docs.julialang.org/en/v1/base/base/#Base.@assert):"
   ]
  },
  {
   "cell_type": "code",
   "execution_count": 24,
   "id": "a7d0eb4c-6f29-423b-9e60-87cceadc9cef",
   "metadata": {},
   "outputs": [
    {
     "name": "stdout",
     "output_type": "stream",
     "text": [
      "R = (1.829541014350238, 2.5471384255348197) at CI = 99.0% and σ = 1.665053790097313, σ̄ = 2.1428175161015686\n"
     ]
    },
    {
     "ename": "LoadError",
     "evalue": "AssertionError: R[1] ≤ σ && σ ≤ R[2]",
     "output_type": "error",
     "traceback": [
      "AssertionError: R[1] ≤ σ && σ ≤ R[2]",
      "",
      "Stacktrace:",
      " [1] top-level scope",
      "   @ In[24]:4"
     ]
    }
   ],
   "source": [
    "let\n",
    "    R = (sqrt(((number_of_paths - 1)*σ̄^2)/(χᵣ)), sqrt(((number_of_paths - 1)*σ̄^2)/(χₗ)));\n",
    "    println(\"R = $(R) at CI = $(100*α)% and σ = $(σ), σ̄ = $(σ̄)\")\n",
    "    @assert R[1] ≤ σ && σ ≤ R[2]\n",
    "end"
   ]
  },
  {
   "cell_type": "markdown",
   "id": "94fdb21a-31fe-45ac-acae-72623f0851a3",
   "metadata": {},
   "source": [
    "__What if we fail Test II__? Currently, the model simulation fails `Test II,` i.e., the uncertainty of the standard deviation computed by the Markov model does not include the standard deviation value calculated from the out-of-sample observations (the simulated range is biased high); the standard deviation values have a percentage difference of:"
   ]
  },
  {
   "cell_type": "code",
   "execution_count": 25,
   "id": "9bca3271-be42-44dc-99b7-2fdb0467c3f8",
   "metadata": {},
   "outputs": [
    {
     "name": "stdout",
     "output_type": "stream",
     "text": [
      "The percentage difference between the observed and simulated stdev is: 28.693591092713767%\n"
     ]
    }
   ],
   "source": [
    "let\n",
    "    ϵ = 100*abs(((σ - σ̄)/σ)); # percentage difference in std\n",
    "    println(\"The percentage difference between the observed and simulated stdev is: $(ϵ)%\")\n",
    "end"
   ]
  },
  {
   "cell_type": "markdown",
   "id": "a5b51b0c-435e-4282-ae78-1de59796ce84",
   "metadata": {},
   "source": [
    "### Check: Are the predicted and observed out-of-sample distributions the same? \n",
    "If our Markov model is correct, then the observed excess growth rate distribution and the excess growth distribution calculated by our model should look like they are drawn from the same distribution. To check this hypothesis, use [the ApproximateTwoSampleKSTest exported by the HypothesisTests.jl package](https://github.com/JuliaStats/HypothesisTests.jl) \n",
    "* `H0:null hypothesis` is that `x` and `y` are drawn from the same distribution against the `H1:alternative hypothesis` that `x` and `y` come from different distributions.\n",
    "\n",
    "We have `number_of_paths` example trajectories, so let's do the test on each sample and compute an overall expected score. Specify a `pvalue_cutoff` value to check against. If the test returns `pvalue > pvalue_cutoff,` then we fail to reject `H0:null hypothesis`, i.e., `x` and `y` appear to be drawn from the same distribution."
   ]
  },
  {
   "cell_type": "code",
   "execution_count": 26,
   "id": "1d19b22f-aa0d-4676-a72d-afcb92a61dac",
   "metadata": {},
   "outputs": [
    {
     "name": "stdout",
     "output_type": "stream",
     "text": [
      "Pass percentage: 84.0%\n"
     ]
    }
   ],
   "source": [
    "pvalue_cutoff = 0.05; # if larger than this, we reject the H0\n",
    "pass_counter = 0;\n",
    "for i ∈ 1:number_of_paths\n",
    "    test_value = ApproximateTwoSampleKSTest(Rᵢ, out_of_sample_decoded_archive[:,i]) |> pvalue   \n",
    "    if (test_value > pvalue_cutoff)\n",
    "        pass_counter += 1 # we pass (fail to reject) x and y are from the same distribution\n",
    "    end\n",
    "end\n",
    "println(\"Pass percentage: $((pass_counter/number_of_paths)*100)%\")"
   ]
  },
  {
   "cell_type": "code",
   "execution_count": 27,
   "id": "791e3c30-3a0f-4bc1-a3dd-cebcb2b15b8f",
   "metadata": {},
   "outputs": [
    {
     "data": {
      "text/plain": [
       "Approximate two sample Kolmogorov-Smirnov test\n",
       "----------------------------------------------\n",
       "Population details:\n",
       "    parameter of interest:   Supremum of CDF differences\n",
       "    value under h_0:         0.0\n",
       "    point estimate:          0.0833333\n",
       "\n",
       "Test summary:\n",
       "    outcome with 95% confidence: fail to reject h_0\n",
       "    two-sided p-value:           0.2933\n",
       "\n",
       "Details:\n",
       "    number of observations:   [276,276]\n",
       "    KS-statistic:              0.9789450103725611\n"
      ]
     },
     "execution_count": 27,
     "metadata": {},
     "output_type": "execute_result"
    }
   ],
   "source": [
    "ApproximateTwoSampleKSTest(Rᵢ, out_of_sample_decoded_archive[:,rand(1:number_of_paths)])"
   ]
  },
  {
   "cell_type": "code",
   "execution_count": 28,
   "id": "5a50ea5f-df36-444c-aa5c-11dc7a167ab0",
   "metadata": {},
   "outputs": [
    {
     "data": {
      "text/plain": [
       "\"/Users/abdulrahmanalswaidan/Desktop/Project-Repos/HMM-withJumps/figs/Fig-SPY-out-of-sample-ExcessGrowthRate-Trajectory-Daily-HMM.svg\""
      ]
     },
     "execution_count": 28,
     "metadata": {},
     "output_type": "execute_result"
    }
   ],
   "source": [
    "let\n",
    "    index_to_plot = rand(1:number_of_paths);\n",
    "    number_of_steps = length(out_of_sample_dataset); # average number of trading days per year\n",
    "\n",
    "    plot(out_of_sample_decoded_archive[:,index_to_plot], linetype=:steppost, label=\"Simulated i = $(index_to_plot)\", \n",
    "        bg=\"gray97\", background_color_outside=\"white\", framestyle = :box, fg_legend = :transparent)\n",
    "    plot!(Rᵢ, linetype=:steppost, c=:red, label=\"Observed\")\n",
    "    xlabel!(\"Trading day index\", fintsize=18)\n",
    "    ylabel!(\"Excess Annual Growth Rate $(ticker) (AU)\", fontsize=18)\n",
    "\n",
    "    savefig(joinpath(_PATH_TO_FIGURES, \"Fig-$(ticker)-out-of-sample-ExcessGrowthRate-Trajectory-Daily-HMM.svg\"))\n",
    "end"
   ]
  },
  {
   "cell_type": "code",
   "execution_count": 29,
   "id": "74484adf-9b4c-4c71-be3d-bce4b4653cd0",
   "metadata": {},
   "outputs": [
    {
     "data": {
      "image/png": "[encoded data removed]",
      "image/svg+xml": [
       "<?xml version=\"1.0\" encoding=\"utf-8\"?>\n",
       "<svg xmlns=\"http://www.w3.org/2000/svg\" xmlns:xlink=\"http://www.w3.org/1999/xlink\" width=\"600\" height=\"400\" viewBox=\"0 0 2400 1600\">\n",
       "<defs>\n",
       "  <clipPath id=\"clip090\">\n",
       "    <rect x=\"0\" y=\"0\" width=\"2400\" height=\"1600\"/>\n",
       "  </clipPath>\n",
       "</defs>\n",
       "<path clip-path=\"url(#clip090)\" d=\"M0 1600 L2400 1600 L2400 8.88178e-14 L0 8.88178e-14  Z\" fill=\"#ffffff\" fill-rule=\"evenodd\" fill-opacity=\"1\"/>\n",
       "<defs>\n",
       "  <clipPath id=\"clip091\">\n",
       "    <rect x=\"480\" y=\"0\" width=\"1681\" height=\"1600\"/>\n",
       "  </clipPath>\n",
       "</defs>\n",
       "<path clip-path=\"url(#clip090)\" d=\"M112.177 1486.45 L2352.76 1486.45 L2352.76 47.2441 L112.177 47.2441  Z\" fill=\"#ffffff\" fill-rule=\"evenodd\" fill-opacity=\"1\"/>\n",
       "<defs>\n",
       "  <clipPath id=\"clip092\">\n",
       "    <rect x=\"112\" y=\"47\" width=\"2242\" height=\"1440\"/>\n",
       "  </clipPath>\n",
       "</defs>\n",
       "<polyline clip-path=\"url(#clip092)\" style=\"stroke:#000000; stroke-linecap:round; stroke-linejoin:round; stroke-width:2; stroke-opacity:0.1; fill:none\" points=\"159.237,1486.45 159.237,47.2441 \"/>\n",
       "<polyline clip-path=\"url(#clip092)\" style=\"stroke:#000000; stroke-linecap:round; stroke-linejoin:round; stroke-width:2; stroke-opacity:0.1; fill:none\" points=\"550.788,1486.45 550.788,47.2441 \"/>\n",
       "<polyline clip-path=\"url(#clip092)\" style=\"stroke:#000000; stroke-linecap:round; stroke-linejoin:round; stroke-width:2; stroke-opacity:0.1; fill:none\" points=\"942.339,1486.45 942.339,47.2441 \"/>\n",
       "<polyline clip-path=\"url(#clip092)\" style=\"stroke:#000000; stroke-linecap:round; stroke-linejoin:round; stroke-width:2; stroke-opacity:0.1; fill:none\" points=\"1333.89,1486.45 1333.89,47.2441 \"/>\n",
       "<polyline clip-path=\"url(#clip092)\" style=\"stroke:#000000; stroke-linecap:round; stroke-linejoin:round; stroke-width:2; stroke-opacity:0.1; fill:none\" points=\"1725.44,1486.45 1725.44,47.2441 \"/>\n",
       "<polyline clip-path=\"url(#clip092)\" style=\"stroke:#000000; stroke-linecap:round; stroke-linejoin:round; stroke-width:2; stroke-opacity:0.1; fill:none\" points=\"2116.99,1486.45 2116.99,47.2441 \"/>\n",
       "<polyline clip-path=\"url(#clip092)\" style=\"stroke:#000000; stroke-linecap:round; stroke-linejoin:round; stroke-width:2; stroke-opacity:0.1; fill:none\" points=\"112.177,1445.74 2352.76,1445.74 \"/>\n",
       "<polyline clip-path=\"url(#clip092)\" style=\"stroke:#000000; stroke-linecap:round; stroke-linejoin:round; stroke-width:2; stroke-opacity:0.1; fill:none\" points=\"112.177,1224.01 2352.76,1224.01 \"/>\n",
       "<polyline clip-path=\"url(#clip092)\" style=\"stroke:#000000; stroke-linecap:round; stroke-linejoin:round; stroke-width:2; stroke-opacity:0.1; fill:none\" points=\"112.177,1002.27 2352.76,1002.27 \"/>\n",
       "<polyline clip-path=\"url(#clip092)\" style=\"stroke:#000000; stroke-linecap:round; stroke-linejoin:round; stroke-width:2; stroke-opacity:0.1; fill:none\" points=\"112.177,780.541 2352.76,780.541 \"/>\n",
       "<polyline clip-path=\"url(#clip092)\" style=\"stroke:#000000; stroke-linecap:round; stroke-linejoin:round; stroke-width:2; stroke-opacity:0.1; fill:none\" points=\"112.177,558.808 2352.76,558.808 \"/>\n",
       "<polyline clip-path=\"url(#clip092)\" style=\"stroke:#000000; stroke-linecap:round; stroke-linejoin:round; stroke-width:2; stroke-opacity:0.1; fill:none\" points=\"112.177,337.076 2352.76,337.076 \"/>\n",
       "<polyline clip-path=\"url(#clip092)\" style=\"stroke:#000000; stroke-linecap:round; stroke-linejoin:round; stroke-width:2; stroke-opacity:0.1; fill:none\" points=\"112.177,115.344 2352.76,115.344 \"/>\n",
       "<polyline clip-path=\"url(#clip090)\" style=\"stroke:#000000; stroke-linecap:round; stroke-linejoin:round; stroke-width:4; stroke-opacity:1; fill:none\" points=\"112.177,1486.45 2352.76,1486.45 \"/>\n",
       "<polyline clip-path=\"url(#clip090)\" style=\"stroke:#000000; stroke-linecap:round; stroke-linejoin:round; stroke-width:4; stroke-opacity:1; fill:none\" points=\"159.237,1486.45 159.237,1467.55 \"/>\n",
       "<polyline clip-path=\"url(#clip090)\" style=\"stroke:#000000; stroke-linecap:round; stroke-linejoin:round; stroke-width:4; stroke-opacity:1; fill:none\" points=\"550.788,1486.45 550.788,1467.55 \"/>\n",
       "<polyline clip-path=\"url(#clip090)\" style=\"stroke:#000000; stroke-linecap:round; stroke-linejoin:round; stroke-width:4; stroke-opacity:1; fill:none\" points=\"942.339,1486.45 942.339,1467.55 \"/>\n",
       "<polyline clip-path=\"url(#clip090)\" style=\"stroke:#000000; stroke-linecap:round; stroke-linejoin:round; stroke-width:4; stroke-opacity:1; fill:none\" points=\"1333.89,1486.45 1333.89,1467.55 \"/>\n",
       "<polyline clip-path=\"url(#clip090)\" style=\"stroke:#000000; stroke-linecap:round; stroke-linejoin:round; stroke-width:4; stroke-opacity:1; fill:none\" points=\"1725.44,1486.45 1725.44,1467.55 \"/>\n",
       "<polyline clip-path=\"url(#clip090)\" style=\"stroke:#000000; stroke-linecap:round; stroke-linejoin:round; stroke-width:4; stroke-opacity:1; fill:none\" points=\"2116.99,1486.45 2116.99,1467.55 \"/>\n",
       "<path clip-path=\"url(#clip090)\" d=\"M137.072 1517.37 Q133.461 1517.37 131.633 1520.93 Q129.827 1524.47 129.827 1531.6 Q129.827 1538.71 131.633 1542.27 Q133.461 1545.82 137.072 1545.82 Q140.707 1545.82 142.512 1542.27 Q144.341 1538.71 144.341 1531.6 Q144.341 1524.47 142.512 1520.93 Q140.707 1517.37 137.072 1517.37 M137.072 1513.66 Q142.883 1513.66 145.938 1518.27 Q149.017 1522.85 149.017 1531.6 Q149.017 1540.33 145.938 1544.94 Q142.883 1549.52 137.072 1549.52 Q131.262 1549.52 128.184 1544.94 Q125.128 1540.33 125.128 1531.6 Q125.128 1522.85 128.184 1518.27 Q131.262 1513.66 137.072 1513.66 Z\" fill=\"#000000\" fill-rule=\"nonzero\" fill-opacity=\"1\" /><path clip-path=\"url(#clip090)\" d=\"M157.234 1542.97 L162.119 1542.97 L162.119 1548.85 L157.234 1548.85 L157.234 1542.97 Z\" fill=\"#000000\" fill-rule=\"nonzero\" fill-opacity=\"1\" /><path clip-path=\"url(#clip090)\" d=\"M171.123 1514.29 L193.345 1514.29 L193.345 1516.28 L180.799 1548.85 L175.915 1548.85 L187.72 1518.22 L171.123 1518.22 L171.123 1514.29 Z\" fill=\"#000000\" fill-rule=\"nonzero\" fill-opacity=\"1\" /><path clip-path=\"url(#clip090)\" d=\"M528.219 1517.37 Q524.608 1517.37 522.779 1520.93 Q520.973 1524.47 520.973 1531.6 Q520.973 1538.71 522.779 1542.27 Q524.608 1545.82 528.219 1545.82 Q531.853 1545.82 533.658 1542.27 Q535.487 1538.71 535.487 1531.6 Q535.487 1524.47 533.658 1520.93 Q531.853 1517.37 528.219 1517.37 M528.219 1513.66 Q534.029 1513.66 537.084 1518.27 Q540.163 1522.85 540.163 1531.6 Q540.163 1540.33 537.084 1544.94 Q534.029 1549.52 528.219 1549.52 Q522.408 1549.52 519.33 1544.94 Q516.274 1540.33 516.274 1531.6 Q516.274 1522.85 519.33 1518.27 Q522.408 1513.66 528.219 1513.66 Z\" fill=\"#000000\" fill-rule=\"nonzero\" fill-opacity=\"1\" /><path clip-path=\"url(#clip090)\" d=\"M548.381 1542.97 L553.265 1542.97 L553.265 1548.85 L548.381 1548.85 L548.381 1542.97 Z\" fill=\"#000000\" fill-rule=\"nonzero\" fill-opacity=\"1\" /><path clip-path=\"url(#clip090)\" d=\"M573.45 1532.44 Q570.117 1532.44 568.195 1534.22 Q566.297 1536 566.297 1539.13 Q566.297 1542.25 568.195 1544.03 Q570.117 1545.82 573.45 1545.82 Q576.783 1545.82 578.704 1544.03 Q580.626 1542.23 580.626 1539.13 Q580.626 1536 578.704 1534.22 Q576.806 1532.44 573.45 1532.44 M568.774 1530.45 Q565.765 1529.7 564.075 1527.64 Q562.408 1525.58 562.408 1522.62 Q562.408 1518.48 565.348 1516.07 Q568.311 1513.66 573.45 1513.66 Q578.612 1513.66 581.552 1516.07 Q584.491 1518.48 584.491 1522.62 Q584.491 1525.58 582.802 1527.64 Q581.135 1529.7 578.149 1530.45 Q581.529 1531.23 583.404 1533.52 Q585.302 1535.82 585.302 1539.13 Q585.302 1544.15 582.223 1546.83 Q579.167 1549.52 573.45 1549.52 Q567.732 1549.52 564.654 1546.83 Q561.598 1544.15 561.598 1539.13 Q561.598 1535.82 563.496 1533.52 Q565.394 1531.23 568.774 1530.45 M567.061 1523.06 Q567.061 1525.75 568.728 1527.25 Q570.417 1528.76 573.45 1528.76 Q576.459 1528.76 578.149 1527.25 Q579.862 1525.75 579.862 1523.06 Q579.862 1520.38 578.149 1518.87 Q576.459 1517.37 573.45 1517.37 Q570.417 1517.37 568.728 1518.87 Q567.061 1520.38 567.061 1523.06 Z\" fill=\"#000000\" fill-rule=\"nonzero\" fill-opacity=\"1\" /><path clip-path=\"url(#clip090)\" d=\"M919.816 1517.37 Q916.205 1517.37 914.377 1520.93 Q912.571 1524.47 912.571 1531.6 Q912.571 1538.71 914.377 1542.27 Q916.205 1545.82 919.816 1545.82 Q923.451 1545.82 925.256 1542.27 Q927.085 1538.71 927.085 1531.6 Q927.085 1524.47 925.256 1520.93 Q923.451 1517.37 919.816 1517.37 M919.816 1513.66 Q925.626 1513.66 928.682 1518.27 Q931.761 1522.85 931.761 1531.6 Q931.761 1540.33 928.682 1544.94 Q925.626 1549.52 919.816 1549.52 Q914.006 1549.52 910.927 1544.94 Q907.872 1540.33 907.872 1531.6 Q907.872 1522.85 910.927 1518.27 Q914.006 1513.66 919.816 1513.66 Z\" fill=\"#000000\" fill-rule=\"nonzero\" fill-opacity=\"1\" /><path clip-path=\"url(#clip090)\" d=\"M939.978 1542.97 L944.862 1542.97 L944.862 1548.85 L939.978 1548.85 L939.978 1542.97 Z\" fill=\"#000000\" fill-rule=\"nonzero\" fill-opacity=\"1\" /><path clip-path=\"url(#clip090)\" d=\"M955.186 1548.13 L955.186 1543.87 Q956.946 1544.7 958.751 1545.14 Q960.557 1545.58 962.293 1545.58 Q966.923 1545.58 969.353 1542.48 Q971.807 1539.36 972.154 1533.01 Q970.811 1535.01 968.751 1536.07 Q966.691 1537.13 964.191 1537.13 Q959.006 1537.13 955.974 1534.01 Q952.964 1530.86 952.964 1525.42 Q952.964 1520.1 956.112 1516.88 Q959.261 1513.66 964.492 1513.66 Q970.487 1513.66 973.635 1518.27 Q976.807 1522.85 976.807 1531.6 Q976.807 1539.77 972.918 1544.66 Q969.052 1549.52 962.501 1549.52 Q960.742 1549.52 958.936 1549.17 Q957.131 1548.82 955.186 1548.13 M964.492 1533.48 Q967.64 1533.48 969.469 1531.32 Q971.321 1529.17 971.321 1525.42 Q971.321 1521.7 969.469 1519.54 Q967.64 1517.37 964.492 1517.37 Q961.344 1517.37 959.492 1519.54 Q957.663 1521.7 957.663 1525.42 Q957.663 1529.17 959.492 1531.32 Q961.344 1533.48 964.492 1533.48 Z\" fill=\"#000000\" fill-rule=\"nonzero\" fill-opacity=\"1\" /><path clip-path=\"url(#clip090)\" d=\"M1301.04 1544.91 L1308.68 1544.91 L1308.68 1518.55 L1300.37 1520.21 L1300.37 1515.95 L1308.64 1514.29 L1313.31 1514.29 L1313.31 1544.91 L1320.95 1544.91 L1320.95 1548.85 L1301.04 1548.85 L1301.04 1544.91 Z\" fill=\"#000000\" fill-rule=\"nonzero\" fill-opacity=\"1\" /><path clip-path=\"url(#clip090)\" d=\"M1330.4 1542.97 L1335.28 1542.97 L1335.28 1548.85 L1330.4 1548.85 L1330.4 1542.97 Z\" fill=\"#000000\" fill-rule=\"nonzero\" fill-opacity=\"1\" /><path clip-path=\"url(#clip090)\" d=\"M1355.46 1517.37 Q1351.85 1517.37 1350.02 1520.93 Q1348.22 1524.47 1348.22 1531.6 Q1348.22 1538.71 1350.02 1542.27 Q1351.85 1545.82 1355.46 1545.82 Q1359.1 1545.82 1360.9 1542.27 Q1362.73 1538.71 1362.73 1531.6 Q1362.73 1524.47 1360.9 1520.93 Q1359.1 1517.37 1355.46 1517.37 M1355.46 1513.66 Q1361.27 1513.66 1364.33 1518.27 Q1367.41 1522.85 1367.41 1531.6 Q1367.41 1540.33 1364.33 1544.94 Q1361.27 1549.52 1355.46 1549.52 Q1349.65 1549.52 1346.58 1544.94 Q1343.52 1540.33 1343.52 1531.6 Q1343.52 1522.85 1346.58 1518.27 Q1349.65 1513.66 1355.46 1513.66 Z\" fill=\"#000000\" fill-rule=\"nonzero\" fill-opacity=\"1\" /><path clip-path=\"url(#clip090)\" d=\"M1693.21 1544.91 L1700.85 1544.91 L1700.85 1518.55 L1692.54 1520.21 L1692.54 1515.95 L1700.8 1514.29 L1705.48 1514.29 L1705.48 1544.91 L1713.12 1544.91 L1713.12 1548.85 L1693.21 1548.85 L1693.21 1544.91 Z\" fill=\"#000000\" fill-rule=\"nonzero\" fill-opacity=\"1\" /><path clip-path=\"url(#clip090)\" d=\"M1722.56 1542.97 L1727.44 1542.97 L1727.44 1548.85 L1722.56 1548.85 L1722.56 1542.97 Z\" fill=\"#000000\" fill-rule=\"nonzero\" fill-opacity=\"1\" /><path clip-path=\"url(#clip090)\" d=\"M1738.44 1544.91 L1746.08 1544.91 L1746.08 1518.55 L1737.77 1520.21 L1737.77 1515.95 L1746.03 1514.29 L1750.71 1514.29 L1750.71 1544.91 L1758.35 1544.91 L1758.35 1548.85 L1738.44 1548.85 L1738.44 1544.91 Z\" fill=\"#000000\" fill-rule=\"nonzero\" fill-opacity=\"1\" /><path clip-path=\"url(#clip090)\" d=\"M2084.94 1544.91 L2092.58 1544.91 L2092.58 1518.55 L2084.27 1520.21 L2084.27 1515.95 L2092.54 1514.29 L2097.21 1514.29 L2097.21 1544.91 L2104.85 1544.91 L2104.85 1548.85 L2084.94 1548.85 L2084.94 1544.91 Z\" fill=\"#000000\" fill-rule=\"nonzero\" fill-opacity=\"1\" /><path clip-path=\"url(#clip090)\" d=\"M2114.3 1542.97 L2119.18 1542.97 L2119.18 1548.85 L2114.3 1548.85 L2114.3 1542.97 Z\" fill=\"#000000\" fill-rule=\"nonzero\" fill-opacity=\"1\" /><path clip-path=\"url(#clip090)\" d=\"M2133.39 1544.91 L2149.71 1544.91 L2149.71 1548.85 L2127.77 1548.85 L2127.77 1544.91 Q2130.43 1542.16 2135.01 1537.53 Q2139.62 1532.88 2140.8 1531.53 Q2143.05 1529.01 2143.93 1527.27 Q2144.83 1525.51 2144.83 1523.82 Q2144.83 1521.07 2142.88 1519.33 Q2140.96 1517.6 2137.86 1517.6 Q2135.66 1517.6 2133.21 1518.36 Q2130.78 1519.13 2128 1520.68 L2128 1515.95 Q2130.82 1514.82 2133.28 1514.24 Q2135.73 1513.66 2137.77 1513.66 Q2143.14 1513.66 2146.33 1516.35 Q2149.53 1519.03 2149.53 1523.52 Q2149.53 1525.65 2148.72 1527.57 Q2147.93 1529.47 2145.82 1532.07 Q2145.25 1532.74 2142.14 1535.95 Q2139.04 1539.15 2133.39 1544.91 Z\" fill=\"#000000\" fill-rule=\"nonzero\" fill-opacity=\"1\" /><polyline clip-path=\"url(#clip090)\" style=\"stroke:#000000; stroke-linecap:round; stroke-linejoin:round; stroke-width:4; stroke-opacity:1; fill:none\" points=\"112.177,1486.45 112.177,47.2441 \"/>\n",
       "<polyline clip-path=\"url(#clip090)\" style=\"stroke:#000000; stroke-linecap:round; stroke-linejoin:round; stroke-width:4; stroke-opacity:1; fill:none\" points=\"112.177,1445.74 131.075,1445.74 \"/>\n",
       "<polyline clip-path=\"url(#clip090)\" style=\"stroke:#000000; stroke-linecap:round; stroke-linejoin:round; stroke-width:4; stroke-opacity:1; fill:none\" points=\"112.177,1224.01 131.075,1224.01 \"/>\n",
       "<polyline clip-path=\"url(#clip090)\" style=\"stroke:#000000; stroke-linecap:round; stroke-linejoin:round; stroke-width:4; stroke-opacity:1; fill:none\" points=\"112.177,1002.27 131.075,1002.27 \"/>\n",
       "<polyline clip-path=\"url(#clip090)\" style=\"stroke:#000000; stroke-linecap:round; stroke-linejoin:round; stroke-width:4; stroke-opacity:1; fill:none\" points=\"112.177,780.541 131.075,780.541 \"/>\n",
       "<polyline clip-path=\"url(#clip090)\" style=\"stroke:#000000; stroke-linecap:round; stroke-linejoin:round; stroke-width:4; stroke-opacity:1; fill:none\" points=\"112.177,558.808 131.075,558.808 \"/>\n",
       "<polyline clip-path=\"url(#clip090)\" style=\"stroke:#000000; stroke-linecap:round; stroke-linejoin:round; stroke-width:4; stroke-opacity:1; fill:none\" points=\"112.177,337.076 131.075,337.076 \"/>\n",
       "<polyline clip-path=\"url(#clip090)\" style=\"stroke:#000000; stroke-linecap:round; stroke-linejoin:round; stroke-width:4; stroke-opacity:1; fill:none\" points=\"112.177,115.344 131.075,115.344 \"/>\n",
       "<path clip-path=\"url(#clip090)\" d=\"M64.2328 1431.54 Q60.6217 1431.54 58.793 1435.1 Q56.9875 1438.64 56.9875 1445.77 Q56.9875 1452.88 58.793 1456.44 Q60.6217 1459.99 64.2328 1459.99 Q67.867 1459.99 69.6726 1456.44 Q71.5013 1452.88 71.5013 1445.77 Q71.5013 1438.64 69.6726 1435.1 Q67.867 1431.54 64.2328 1431.54 M64.2328 1427.83 Q70.0429 1427.83 73.0985 1432.44 Q76.1772 1437.02 76.1772 1445.77 Q76.1772 1454.5 73.0985 1459.11 Q70.0429 1463.69 64.2328 1463.69 Q58.4226 1463.69 55.344 1459.11 Q52.2884 1454.5 52.2884 1445.77 Q52.2884 1437.02 55.344 1432.44 Q58.4226 1427.83 64.2328 1427.83 Z\" fill=\"#000000\" fill-rule=\"nonzero\" fill-opacity=\"1\" /><path clip-path=\"url(#clip090)\" d=\"M56.2699 1237.35 L63.9087 1237.35 L63.9087 1210.98 L55.5986 1212.65 L55.5986 1208.39 L63.8624 1206.73 L68.5383 1206.73 L68.5383 1237.35 L76.1772 1237.35 L76.1772 1241.29 L56.2699 1241.29 L56.2699 1237.35 Z\" fill=\"#000000\" fill-rule=\"nonzero\" fill-opacity=\"1\" /><path clip-path=\"url(#clip090)\" d=\"M59.8578 1015.62 L76.1772 1015.62 L76.1772 1019.55 L54.2328 1019.55 L54.2328 1015.62 Q56.8949 1012.86 61.4782 1008.23 Q66.0846 1003.58 67.2652 1002.24 Q69.5105 999.715 70.3902 997.979 Q71.2929 996.22 71.2929 994.53 Q71.2929 991.775 69.3485 990.039 Q67.4272 988.303 64.3254 988.303 Q62.1263 988.303 59.6726 989.067 Q57.2421 989.831 54.4643 991.382 L54.4643 986.66 Q57.2884 985.526 59.7421 984.947 Q62.1958 984.368 64.2328 984.368 Q69.6031 984.368 72.7976 987.053 Q75.992 989.738 75.992 994.229 Q75.992 996.359 75.1818 998.28 Q74.3948 1000.18 72.2883 1002.77 Q71.7096 1003.44 68.6078 1006.66 Q65.5059 1009.85 59.8578 1015.62 Z\" fill=\"#000000\" fill-rule=\"nonzero\" fill-opacity=\"1\" /><path clip-path=\"url(#clip090)\" d=\"M69.0476 779.187 Q72.404 779.904 74.279 782.173 Q76.1772 784.441 76.1772 787.775 Q76.1772 792.89 72.6587 795.691 Q69.1402 798.492 62.6587 798.492 Q60.4828 798.492 58.168 798.052 Q55.8764 797.636 53.4227 796.779 L53.4227 792.265 Q55.3671 793.399 57.6819 793.978 Q59.9967 794.557 62.5198 794.557 Q66.918 794.557 69.2096 792.821 Q71.5244 791.085 71.5244 787.775 Q71.5244 784.719 69.3717 783.006 Q67.242 781.27 63.4226 781.27 L59.3949 781.27 L59.3949 777.427 L63.6078 777.427 Q67.0569 777.427 68.8855 776.062 Q70.7142 774.673 70.7142 772.08 Q70.7142 769.418 68.8161 768.006 Q66.9411 766.571 63.4226 766.571 Q61.5013 766.571 59.3023 766.988 Q57.1032 767.404 54.4643 768.284 L54.4643 764.117 Q57.1264 763.377 59.4412 763.006 Q61.7791 762.636 63.8393 762.636 Q69.1633 762.636 72.2652 765.066 Q75.367 767.474 75.367 771.594 Q75.367 774.464 73.7235 776.455 Q72.08 778.423 69.0476 779.187 Z\" fill=\"#000000\" fill-rule=\"nonzero\" fill-opacity=\"1\" /><path clip-path=\"url(#clip090)\" d=\"M66.5939 545.602 L54.7884 564.051 L66.5939 564.051 L66.5939 545.602 M65.367 541.528 L71.2466 541.528 L71.2466 564.051 L76.1772 564.051 L76.1772 567.94 L71.2466 567.94 L71.2466 576.088 L66.5939 576.088 L66.5939 567.94 L50.9921 567.94 L50.9921 563.426 L65.367 541.528 Z\" fill=\"#000000\" fill-rule=\"nonzero\" fill-opacity=\"1\" /><path clip-path=\"url(#clip090)\" d=\"M55.2745 319.796 L73.6309 319.796 L73.6309 323.731 L59.5569 323.731 L59.5569 332.203 Q60.5754 331.856 61.5939 331.694 Q62.6124 331.509 63.6309 331.509 Q69.418 331.509 72.7976 334.68 Q76.1772 337.852 76.1772 343.268 Q76.1772 348.847 72.705 351.949 Q69.2328 355.027 62.9134 355.027 Q60.7374 355.027 58.4689 354.657 Q56.2236 354.287 53.8162 353.546 L53.8162 348.847 Q55.8995 349.981 58.1217 350.537 Q60.3439 351.092 62.8208 351.092 Q66.8254 351.092 69.1633 348.986 Q71.5013 346.879 71.5013 343.268 Q71.5013 339.657 69.1633 337.551 Q66.8254 335.444 62.8208 335.444 Q60.9458 335.444 59.0708 335.861 Q57.2189 336.277 55.2745 337.157 L55.2745 319.796 Z\" fill=\"#000000\" fill-rule=\"nonzero\" fill-opacity=\"1\" /><path clip-path=\"url(#clip090)\" d=\"M64.6495 113.48 Q61.5013 113.48 59.6495 115.633 Q57.8208 117.786 57.8208 121.536 Q57.8208 125.263 59.6495 127.439 Q61.5013 129.591 64.6495 129.591 Q67.7976 129.591 69.6263 127.439 Q71.4781 125.263 71.4781 121.536 Q71.4781 117.786 69.6263 115.633 Q67.7976 113.48 64.6495 113.48 M73.9318 98.8276 L73.9318 103.087 Q72.1726 102.254 70.367 101.814 Q68.5846 101.374 66.8254 101.374 Q62.1958 101.374 59.7421 104.499 Q57.3115 107.624 56.9643 113.943 Q58.33 111.929 60.3902 110.865 Q62.4504 109.777 64.9272 109.777 Q70.1355 109.777 73.1448 112.948 Q76.1772 116.096 76.1772 121.536 Q76.1772 126.86 73.029 130.077 Q69.8809 133.295 64.6495 133.295 Q58.6541 133.295 55.4828 128.712 Q52.3116 124.105 52.3116 115.378 Q52.3116 107.184 56.2004 102.323 Q60.0893 97.4388 66.6402 97.4388 Q68.3994 97.4388 70.1818 97.786 Q71.9874 98.1332 73.9318 98.8276 Z\" fill=\"#000000\" fill-rule=\"nonzero\" fill-opacity=\"1\" /><polyline clip-path=\"url(#clip092)\" style=\"stroke:#009af9; stroke-linecap:round; stroke-linejoin:round; stroke-width:4; stroke-opacity:1; fill:none\" points=\"175.59,1445.72 186.212,1445.71 196.834,1445.7 207.455,1445.68 218.077,1445.65 228.699,1445.6 239.321,1445.53 249.943,1445.43 260.565,1445.29 271.187,1445.09 281.809,1444.82 292.43,1444.45 303.052,1443.97 313.674,1443.34 324.296,1442.54 334.918,1441.54 345.54,1440.31 356.162,1438.82 366.784,1437.06 377.405,1435.02 388.027,1432.71 398.649,1430.13 409.271,1427.34 419.893,1424.37 430.515,1421.3 441.137,1418.2 451.759,1415.19 462.38,1412.34 473.002,1409.75 483.624,1407.52 494.246,1405.71 504.868,1404.36 515.49,1403.5 526.112,1403.1 536.734,1403.12 547.355,1403.47 557.977,1404.04 568.599,1404.69 579.221,1405.27 589.843,1405.62 600.465,1405.57 611.087,1404.99 621.709,1403.75 632.33,1401.73 642.952,1398.87 653.574,1395.13 664.196,1390.47 674.818,1384.91 685.44,1378.47 696.062,1371.19 706.684,1363.09 717.306,1354.21 727.927,1344.56 738.549,1334.14 749.171,1322.9 759.793,1310.8 770.415,1297.73 781.037,1283.59 791.659,1268.24 802.281,1251.56 812.902,1233.41 823.524,1213.68 834.146,1192.29 844.768,1169.19 855.39,1144.39 866.012,1117.95 876.634,1089.99 887.256,1060.67 897.877,1030.21 908.499,998.828 919.121,966.771 929.743,934.263 940.365,901.501 950.987,868.637 961.609,835.766 972.231,802.924 982.852,770.086 993.474,737.181 1004.1,704.099 1014.72,670.719 1025.34,636.922 1035.96,602.617 1046.58,567.757 1057.21,532.351 1067.83,496.477 1078.45,460.28 1089.07,423.974 1099.69,387.827 1110.31,352.158 1120.94,317.318 1131.56,283.68 1142.18,251.624 1152.8,221.526 1163.42,193.75 1174.05,168.635 1184.67,146.495 1195.29,127.605 1205.91,112.195 1216.53,100.447 1227.16,92.4783 1237.78,88.3339 1248.4,87.9763 1259.02,91.2742 1269.64,97.9958 1280.26,107.806 1290.89,120.268 1301.51,134.855 1312.13,150.971 1322.75,167.972 1333.37,185.206 1344,202.049 1354.62,217.946 1365.24,232.454 1375.86,245.273 1386.48,256.275 1397.11,265.52 1407.73,273.252 1418.35,279.891 1428.97,286 1439.59,292.253 1450.22,299.382 1460.84,308.129 1471.46,319.194 1482.08,333.191 1492.7,350.607 1503.32,371.782 1513.95,396.889 1524.57,425.938 1535.19,458.785 1545.81,495.153 1556.43,534.656 1567.06,576.831 1577.68,621.167 1588.3,667.131 1598.92,714.192 1609.54,761.836 1620.17,809.582 1630.79,856.989 1641.41,903.657 1652.03,949.231 1662.65,993.396 1673.27,1035.88 1683.9,1076.45 1694.52,1114.9 1705.14,1151.07 1715.76,1184.83 1726.38,1216.07 1737.01,1244.73 1747.63,1270.77 1758.25,1294.17 1768.87,1314.96 1779.49,1333.18 1790.12,1348.9 1800.74,1362.22 1811.36,1373.28 1821.98,1382.23 1832.6,1389.25 1843.22,1394.53 1853.85,1398.31 1864.47,1400.81 1875.09,1402.3 1885.71,1403.01 1896.33,1403.18 1906.96,1403.07 1917.58,1402.86 1928.2,1402.75 1938.82,1402.89 1949.44,1403.39 1960.07,1404.31 1970.69,1405.69 1981.31,1407.52 1991.93,1409.76 2002.55,1412.35 2013.17,1415.2 2023.8,1418.21 2034.42,1421.3 2045.04,1424.37 2055.66,1427.34 2066.28,1430.13 2076.91,1432.71 2087.53,1435.02 2098.15,1437.06 2108.77,1438.82 2119.39,1440.31 2130.02,1441.54 2140.64,1442.54 2151.26,1443.34 2161.88,1443.97 2172.5,1444.45 2183.12,1444.82 2193.75,1445.09 2204.37,1445.29 2214.99,1445.43 2225.61,1445.53 2236.23,1445.6 2246.86,1445.65 2257.48,1445.68 2268.1,1445.7 2278.72,1445.71 2289.34,1445.72 \"/>\n",
       "<path clip-path=\"url(#clip090)\" d=\"M2001.58 198.898 L2278.07 198.898 L2278.07 95.2176 L2001.58 95.2176  Z\" fill=\"#ffffff\" fill-rule=\"evenodd\" fill-opacity=\"1\"/>\n",
       "<polyline clip-path=\"url(#clip090)\" style=\"stroke:#000000; stroke-linecap:round; stroke-linejoin:round; stroke-width:4; stroke-opacity:1; fill:none\" points=\"2001.58,198.898 2278.07,198.898 2278.07,95.2176 2001.58,95.2176 2001.58,198.898 \"/>\n",
       "<polyline clip-path=\"url(#clip090)\" style=\"stroke:#009af9; stroke-linecap:round; stroke-linejoin:round; stroke-width:4; stroke-opacity:1; fill:none\" points=\"2026.48,147.058 2175.85,147.058 \"/>\n",
       "<path clip-path=\"url(#clip090)\" d=\"M2214.59 166.745 Q2212.78 171.375 2211.07 172.787 Q2209.36 174.199 2206.49 174.199 L2203.08 174.199 L2203.08 170.634 L2205.58 170.634 Q2207.34 170.634 2208.31 169.8 Q2209.29 168.967 2210.47 165.865 L2211.23 163.921 L2200.74 138.412 L2205.26 138.412 L2213.36 158.689 L2221.46 138.412 L2225.98 138.412 L2214.59 166.745 Z\" fill=\"#000000\" fill-rule=\"nonzero\" fill-opacity=\"1\" /><path clip-path=\"url(#clip090)\" d=\"M2233.27 160.402 L2240.91 160.402 L2240.91 134.037 L2232.6 135.703 L2232.6 131.444 L2240.86 129.778 L2245.54 129.778 L2245.54 160.402 L2253.17 160.402 L2253.17 164.338 L2233.27 164.338 L2233.27 160.402 Z\" fill=\"#000000\" fill-rule=\"nonzero\" fill-opacity=\"1\" /></svg>\n"
      ],
      "text/html": [
       "<?xml version=\"1.0\" encoding=\"utf-8\"?>\n",
       "<svg xmlns=\"http://www.w3.org/2000/svg\" xmlns:xlink=\"http://www.w3.org/1999/xlink\" width=\"600\" height=\"400\" viewBox=\"0 0 2400 1600\">\n",
       "<defs>\n",
       "  <clipPath id=\"clip140\">\n",
       "    <rect x=\"0\" y=\"0\" width=\"2400\" height=\"1600\"/>\n",
       "  </clipPath>\n",
       "</defs>\n",
       "<path clip-path=\"url(#clip140)\" d=\"M0 1600 L2400 1600 L2400 8.88178e-14 L0 8.88178e-14  Z\" fill=\"#ffffff\" fill-rule=\"evenodd\" fill-opacity=\"1\"/>\n",
       "<defs>\n",
       "  <clipPath id=\"clip141\">\n",
       "    <rect x=\"480\" y=\"0\" width=\"1681\" height=\"1600\"/>\n",
       "  </clipPath>\n",
       "</defs>\n",
       "<path clip-path=\"url(#clip140)\" d=\"M112.177 1486.45 L2352.76 1486.45 L2352.76 47.2441 L112.177 47.2441  Z\" fill=\"#ffffff\" fill-rule=\"evenodd\" fill-opacity=\"1\"/>\n",
       "<defs>\n",
       "  <clipPath id=\"clip142\">\n",
       "    <rect x=\"112\" y=\"47\" width=\"2242\" height=\"1440\"/>\n",
       "  </clipPath>\n",
       "</defs>\n",
       "<polyline clip-path=\"url(#clip142)\" style=\"stroke:#000000; stroke-linecap:round; stroke-linejoin:round; stroke-width:2; stroke-opacity:0.1; fill:none\" points=\"159.237,1486.45 159.237,47.2441 \"/>\n",
       "<polyline clip-path=\"url(#clip142)\" style=\"stroke:#000000; stroke-linecap:round; stroke-linejoin:round; stroke-width:2; stroke-opacity:0.1; fill:none\" points=\"550.788,1486.45 550.788,47.2441 \"/>\n",
       "<polyline clip-path=\"url(#clip142)\" style=\"stroke:#000000; stroke-linecap:round; stroke-linejoin:round; stroke-width:2; stroke-opacity:0.1; fill:none\" points=\"942.339,1486.45 942.339,47.2441 \"/>\n",
       "<polyline clip-path=\"url(#clip142)\" style=\"stroke:#000000; stroke-linecap:round; stroke-linejoin:round; stroke-width:2; stroke-opacity:0.1; fill:none\" points=\"1333.89,1486.45 1333.89,47.2441 \"/>\n",
       "<polyline clip-path=\"url(#clip142)\" style=\"stroke:#000000; stroke-linecap:round; stroke-linejoin:round; stroke-width:2; stroke-opacity:0.1; fill:none\" points=\"1725.44,1486.45 1725.44,47.2441 \"/>\n",
       "<polyline clip-path=\"url(#clip142)\" style=\"stroke:#000000; stroke-linecap:round; stroke-linejoin:round; stroke-width:2; stroke-opacity:0.1; fill:none\" points=\"2116.99,1486.45 2116.99,47.2441 \"/>\n",
       "<polyline clip-path=\"url(#clip142)\" style=\"stroke:#000000; stroke-linecap:round; stroke-linejoin:round; stroke-width:2; stroke-opacity:0.1; fill:none\" points=\"112.177,1445.74 2352.76,1445.74 \"/>\n",
       "<polyline clip-path=\"url(#clip142)\" style=\"stroke:#000000; stroke-linecap:round; stroke-linejoin:round; stroke-width:2; stroke-opacity:0.1; fill:none\" points=\"112.177,1224.01 2352.76,1224.01 \"/>\n",
       "<polyline clip-path=\"url(#clip142)\" style=\"stroke:#000000; stroke-linecap:round; stroke-linejoin:round; stroke-width:2; stroke-opacity:0.1; fill:none\" points=\"112.177,1002.27 2352.76,1002.27 \"/>\n",
       "<polyline clip-path=\"url(#clip142)\" style=\"stroke:#000000; stroke-linecap:round; stroke-linejoin:round; stroke-width:2; stroke-opacity:0.1; fill:none\" points=\"112.177,780.541 2352.76,780.541 \"/>\n",
       "<polyline clip-path=\"url(#clip142)\" style=\"stroke:#000000; stroke-linecap:round; stroke-linejoin:round; stroke-width:2; stroke-opacity:0.1; fill:none\" points=\"112.177,558.808 2352.76,558.808 \"/>\n",
       "<polyline clip-path=\"url(#clip142)\" style=\"stroke:#000000; stroke-linecap:round; stroke-linejoin:round; stroke-width:2; stroke-opacity:0.1; fill:none\" points=\"112.177,337.076 2352.76,337.076 \"/>\n",
       "<polyline clip-path=\"url(#clip142)\" style=\"stroke:#000000; stroke-linecap:round; stroke-linejoin:round; stroke-width:2; stroke-opacity:0.1; fill:none\" points=\"112.177,115.344 2352.76,115.344 \"/>\n",
       "<polyline clip-path=\"url(#clip140)\" style=\"stroke:#000000; stroke-linecap:round; stroke-linejoin:round; stroke-width:4; stroke-opacity:1; fill:none\" points=\"112.177,1486.45 2352.76,1486.45 \"/>\n",
       "<polyline clip-path=\"url(#clip140)\" style=\"stroke:#000000; stroke-linecap:round; stroke-linejoin:round; stroke-width:4; stroke-opacity:1; fill:none\" points=\"159.237,1486.45 159.237,1467.55 \"/>\n",
       "<polyline clip-path=\"url(#clip140)\" style=\"stroke:#000000; stroke-linecap:round; stroke-linejoin:round; stroke-width:4; stroke-opacity:1; fill:none\" points=\"550.788,1486.45 550.788,1467.55 \"/>\n",
       "<polyline clip-path=\"url(#clip140)\" style=\"stroke:#000000; stroke-linecap:round; stroke-linejoin:round; stroke-width:4; stroke-opacity:1; fill:none\" points=\"942.339,1486.45 942.339,1467.55 \"/>\n",
       "<polyline clip-path=\"url(#clip140)\" style=\"stroke:#000000; stroke-linecap:round; stroke-linejoin:round; stroke-width:4; stroke-opacity:1; fill:none\" points=\"1333.89,1486.45 1333.89,1467.55 \"/>\n",
       "<polyline clip-path=\"url(#clip140)\" style=\"stroke:#000000; stroke-linecap:round; stroke-linejoin:round; stroke-width:4; stroke-opacity:1; fill:none\" points=\"1725.44,1486.45 1725.44,1467.55 \"/>\n",
       "<polyline clip-path=\"url(#clip140)\" style=\"stroke:#000000; stroke-linecap:round; stroke-linejoin:round; stroke-width:4; stroke-opacity:1; fill:none\" points=\"2116.99,1486.45 2116.99,1467.55 \"/>\n",
       "<path clip-path=\"url(#clip140)\" d=\"M137.072 1517.37 Q133.461 1517.37 131.633 1520.93 Q129.827 1524.47 129.827 1531.6 Q129.827 1538.71 131.633 1542.27 Q133.461 1545.82 137.072 1545.82 Q140.707 1545.82 142.512 1542.27 Q144.341 1538.71 144.341 1531.6 Q144.341 1524.47 142.512 1520.93 Q140.707 1517.37 137.072 1517.37 M137.072 1513.66 Q142.883 1513.66 145.938 1518.27 Q149.017 1522.85 149.017 1531.6 Q149.017 1540.33 145.938 1544.94 Q142.883 1549.52 137.072 1549.52 Q131.262 1549.52 128.184 1544.94 Q125.128 1540.33 125.128 1531.6 Q125.128 1522.85 128.184 1518.27 Q131.262 1513.66 137.072 1513.66 Z\" fill=\"#000000\" fill-rule=\"nonzero\" fill-opacity=\"1\" /><path clip-path=\"url(#clip140)\" d=\"M157.234 1542.97 L162.119 1542.97 L162.119 1548.85 L157.234 1548.85 L157.234 1542.97 Z\" fill=\"#000000\" fill-rule=\"nonzero\" fill-opacity=\"1\" /><path clip-path=\"url(#clip140)\" d=\"M171.123 1514.29 L193.345 1514.29 L193.345 1516.28 L180.799 1548.85 L175.915 1548.85 L187.72 1518.22 L171.123 1518.22 L171.123 1514.29 Z\" fill=\"#000000\" fill-rule=\"nonzero\" fill-opacity=\"1\" /><path clip-path=\"url(#clip140)\" d=\"M528.219 1517.37 Q524.608 1517.37 522.779 1520.93 Q520.973 1524.47 520.973 1531.6 Q520.973 1538.71 522.779 1542.27 Q524.608 1545.82 528.219 1545.82 Q531.853 1545.82 533.658 1542.27 Q535.487 1538.71 535.487 1531.6 Q535.487 1524.47 533.658 1520.93 Q531.853 1517.37 528.219 1517.37 M528.219 1513.66 Q534.029 1513.66 537.084 1518.27 Q540.163 1522.85 540.163 1531.6 Q540.163 1540.33 537.084 1544.94 Q534.029 1549.52 528.219 1549.52 Q522.408 1549.52 519.33 1544.94 Q516.274 1540.33 516.274 1531.6 Q516.274 1522.85 519.33 1518.27 Q522.408 1513.66 528.219 1513.66 Z\" fill=\"#000000\" fill-rule=\"nonzero\" fill-opacity=\"1\" /><path clip-path=\"url(#clip140)\" d=\"M548.381 1542.97 L553.265 1542.97 L553.265 1548.85 L548.381 1548.85 L548.381 1542.97 Z\" fill=\"#000000\" fill-rule=\"nonzero\" fill-opacity=\"1\" /><path clip-path=\"url(#clip140)\" d=\"M573.45 1532.44 Q570.117 1532.44 568.195 1534.22 Q566.297 1536 566.297 1539.13 Q566.297 1542.25 568.195 1544.03 Q570.117 1545.82 573.45 1545.82 Q576.783 1545.82 578.704 1544.03 Q580.626 1542.23 580.626 1539.13 Q580.626 1536 578.704 1534.22 Q576.806 1532.44 573.45 1532.44 M568.774 1530.45 Q565.765 1529.7 564.075 1527.64 Q562.408 1525.58 562.408 1522.62 Q562.408 1518.48 565.348 1516.07 Q568.311 1513.66 573.45 1513.66 Q578.612 1513.66 581.552 1516.07 Q584.491 1518.48 584.491 1522.62 Q584.491 1525.58 582.802 1527.64 Q581.135 1529.7 578.149 1530.45 Q581.529 1531.23 583.404 1533.52 Q585.302 1535.82 585.302 1539.13 Q585.302 1544.15 582.223 1546.83 Q579.167 1549.52 573.45 1549.52 Q567.732 1549.52 564.654 1546.83 Q561.598 1544.15 561.598 1539.13 Q561.598 1535.82 563.496 1533.52 Q565.394 1531.23 568.774 1530.45 M567.061 1523.06 Q567.061 1525.75 568.728 1527.25 Q570.417 1528.76 573.45 1528.76 Q576.459 1528.76 578.149 1527.25 Q579.862 1525.75 579.862 1523.06 Q579.862 1520.38 578.149 1518.87 Q576.459 1517.37 573.45 1517.37 Q570.417 1517.37 568.728 1518.87 Q567.061 1520.38 567.061 1523.06 Z\" fill=\"#000000\" fill-rule=\"nonzero\" fill-opacity=\"1\" /><path clip-path=\"url(#clip140)\" d=\"M919.816 1517.37 Q916.205 1517.37 914.377 1520.93 Q912.571 1524.47 912.571 1531.6 Q912.571 1538.71 914.377 1542.27 Q916.205 1545.82 919.816 1545.82 Q923.451 1545.82 925.256 1542.27 Q927.085 1538.71 927.085 1531.6 Q927.085 1524.47 925.256 1520.93 Q923.451 1517.37 919.816 1517.37 M919.816 1513.66 Q925.626 1513.66 928.682 1518.27 Q931.761 1522.85 931.761 1531.6 Q931.761 1540.33 928.682 1544.94 Q925.626 1549.52 919.816 1549.52 Q914.006 1549.52 910.927 1544.94 Q907.872 1540.33 907.872 1531.6 Q907.872 1522.85 910.927 1518.27 Q914.006 1513.66 919.816 1513.66 Z\" fill=\"#000000\" fill-rule=\"nonzero\" fill-opacity=\"1\" /><path clip-path=\"url(#clip140)\" d=\"M939.978 1542.97 L944.862 1542.97 L944.862 1548.85 L939.978 1548.85 L939.978 1542.97 Z\" fill=\"#000000\" fill-rule=\"nonzero\" fill-opacity=\"1\" /><path clip-path=\"url(#clip140)\" d=\"M955.186 1548.13 L955.186 1543.87 Q956.946 1544.7 958.751 1545.14 Q960.557 1545.58 962.293 1545.58 Q966.923 1545.58 969.353 1542.48 Q971.807 1539.36 972.154 1533.01 Q970.811 1535.01 968.751 1536.07 Q966.691 1537.13 964.191 1537.13 Q959.006 1537.13 955.974 1534.01 Q952.964 1530.86 952.964 1525.42 Q952.964 1520.1 956.112 1516.88 Q959.261 1513.66 964.492 1513.66 Q970.487 1513.66 973.635 1518.27 Q976.807 1522.85 976.807 1531.6 Q976.807 1539.77 972.918 1544.66 Q969.052 1549.52 962.501 1549.52 Q960.742 1549.52 958.936 1549.17 Q957.131 1548.82 955.186 1548.13 M964.492 1533.48 Q967.64 1533.48 969.469 1531.32 Q971.321 1529.17 971.321 1525.42 Q971.321 1521.7 969.469 1519.54 Q967.64 1517.37 964.492 1517.37 Q961.344 1517.37 959.492 1519.54 Q957.663 1521.7 957.663 1525.42 Q957.663 1529.17 959.492 1531.32 Q961.344 1533.48 964.492 1533.48 Z\" fill=\"#000000\" fill-rule=\"nonzero\" fill-opacity=\"1\" /><path clip-path=\"url(#clip140)\" d=\"M1301.04 1544.91 L1308.68 1544.91 L1308.68 1518.55 L1300.37 1520.21 L1300.37 1515.95 L1308.64 1514.29 L1313.31 1514.29 L1313.31 1544.91 L1320.95 1544.91 L1320.95 1548.85 L1301.04 1548.85 L1301.04 1544.91 Z\" fill=\"#000000\" fill-rule=\"nonzero\" fill-opacity=\"1\" /><path clip-path=\"url(#clip140)\" d=\"M1330.4 1542.97 L1335.28 1542.97 L1335.28 1548.85 L1330.4 1548.85 L1330.4 1542.97 Z\" fill=\"#000000\" fill-rule=\"nonzero\" fill-opacity=\"1\" /><path clip-path=\"url(#clip140)\" d=\"M1355.46 1517.37 Q1351.85 1517.37 1350.02 1520.93 Q1348.22 1524.47 1348.22 1531.6 Q1348.22 1538.71 1350.02 1542.27 Q1351.85 1545.82 1355.46 1545.82 Q1359.1 1545.82 1360.9 1542.27 Q1362.73 1538.71 1362.73 1531.6 Q1362.73 1524.47 1360.9 1520.93 Q1359.1 1517.37 1355.46 1517.37 M1355.46 1513.66 Q1361.27 1513.66 1364.33 1518.27 Q1367.41 1522.85 1367.41 1531.6 Q1367.41 1540.33 1364.33 1544.94 Q1361.27 1549.52 1355.46 1549.52 Q1349.65 1549.52 1346.58 1544.94 Q1343.52 1540.33 1343.52 1531.6 Q1343.52 1522.85 1346.58 1518.27 Q1349.65 1513.66 1355.46 1513.66 Z\" fill=\"#000000\" fill-rule=\"nonzero\" fill-opacity=\"1\" /><path clip-path=\"url(#clip140)\" d=\"M1693.21 1544.91 L1700.85 1544.91 L1700.85 1518.55 L1692.54 1520.21 L1692.54 1515.95 L1700.8 1514.29 L1705.48 1514.29 L1705.48 1544.91 L1713.12 1544.91 L1713.12 1548.85 L1693.21 1548.85 L1693.21 1544.91 Z\" fill=\"#000000\" fill-rule=\"nonzero\" fill-opacity=\"1\" /><path clip-path=\"url(#clip140)\" d=\"M1722.56 1542.97 L1727.44 1542.97 L1727.44 1548.85 L1722.56 1548.85 L1722.56 1542.97 Z\" fill=\"#000000\" fill-rule=\"nonzero\" fill-opacity=\"1\" /><path clip-path=\"url(#clip140)\" d=\"M1738.44 1544.91 L1746.08 1544.91 L1746.08 1518.55 L1737.77 1520.21 L1737.77 1515.95 L1746.03 1514.29 L1750.71 1514.29 L1750.71 1544.91 L1758.35 1544.91 L1758.35 1548.85 L1738.44 1548.85 L1738.44 1544.91 Z\" fill=\"#000000\" fill-rule=\"nonzero\" fill-opacity=\"1\" /><path clip-path=\"url(#clip140)\" d=\"M2084.94 1544.91 L2092.58 1544.91 L2092.58 1518.55 L2084.27 1520.21 L2084.27 1515.95 L2092.54 1514.29 L2097.21 1514.29 L2097.21 1544.91 L2104.85 1544.91 L2104.85 1548.85 L2084.94 1548.85 L2084.94 1544.91 Z\" fill=\"#000000\" fill-rule=\"nonzero\" fill-opacity=\"1\" /><path clip-path=\"url(#clip140)\" d=\"M2114.3 1542.97 L2119.18 1542.97 L2119.18 1548.85 L2114.3 1548.85 L2114.3 1542.97 Z\" fill=\"#000000\" fill-rule=\"nonzero\" fill-opacity=\"1\" /><path clip-path=\"url(#clip140)\" d=\"M2133.39 1544.91 L2149.71 1544.91 L2149.71 1548.85 L2127.77 1548.85 L2127.77 1544.91 Q2130.43 1542.16 2135.01 1537.53 Q2139.62 1532.88 2140.8 1531.53 Q2143.05 1529.01 2143.93 1527.27 Q2144.83 1525.51 2144.83 1523.82 Q2144.83 1521.07 2142.88 1519.33 Q2140.96 1517.6 2137.86 1517.6 Q2135.66 1517.6 2133.21 1518.36 Q2130.78 1519.13 2128 1520.68 L2128 1515.95 Q2130.82 1514.82 2133.28 1514.24 Q2135.73 1513.66 2137.77 1513.66 Q2143.14 1513.66 2146.33 1516.35 Q2149.53 1519.03 2149.53 1523.52 Q2149.53 1525.65 2148.72 1527.57 Q2147.93 1529.47 2145.82 1532.07 Q2145.25 1532.74 2142.14 1535.95 Q2139.04 1539.15 2133.39 1544.91 Z\" fill=\"#000000\" fill-rule=\"nonzero\" fill-opacity=\"1\" /><polyline clip-path=\"url(#clip140)\" style=\"stroke:#000000; stroke-linecap:round; stroke-linejoin:round; stroke-width:4; stroke-opacity:1; fill:none\" points=\"112.177,1486.45 112.177,47.2441 \"/>\n",
       "<polyline clip-path=\"url(#clip140)\" style=\"stroke:#000000; stroke-linecap:round; stroke-linejoin:round; stroke-width:4; stroke-opacity:1; fill:none\" points=\"112.177,1445.74 131.075,1445.74 \"/>\n",
       "<polyline clip-path=\"url(#clip140)\" style=\"stroke:#000000; stroke-linecap:round; stroke-linejoin:round; stroke-width:4; stroke-opacity:1; fill:none\" points=\"112.177,1224.01 131.075,1224.01 \"/>\n",
       "<polyline clip-path=\"url(#clip140)\" style=\"stroke:#000000; stroke-linecap:round; stroke-linejoin:round; stroke-width:4; stroke-opacity:1; fill:none\" points=\"112.177,1002.27 131.075,1002.27 \"/>\n",
       "<polyline clip-path=\"url(#clip140)\" style=\"stroke:#000000; stroke-linecap:round; stroke-linejoin:round; stroke-width:4; stroke-opacity:1; fill:none\" points=\"112.177,780.541 131.075,780.541 \"/>\n",
       "<polyline clip-path=\"url(#clip140)\" style=\"stroke:#000000; stroke-linecap:round; stroke-linejoin:round; stroke-width:4; stroke-opacity:1; fill:none\" points=\"112.177,558.808 131.075,558.808 \"/>\n",
       "<polyline clip-path=\"url(#clip140)\" style=\"stroke:#000000; stroke-linecap:round; stroke-linejoin:round; stroke-width:4; stroke-opacity:1; fill:none\" points=\"112.177,337.076 131.075,337.076 \"/>\n",
       "<polyline clip-path=\"url(#clip140)\" style=\"stroke:#000000; stroke-linecap:round; stroke-linejoin:round; stroke-width:4; stroke-opacity:1; fill:none\" points=\"112.177,115.344 131.075,115.344 \"/>\n",
       "<path clip-path=\"url(#clip140)\" d=\"M64.2328 1431.54 Q60.6217 1431.54 58.793 1435.1 Q56.9875 1438.64 56.9875 1445.77 Q56.9875 1452.88 58.793 1456.44 Q60.6217 1459.99 64.2328 1459.99 Q67.867 1459.99 69.6726 1456.44 Q71.5013 1452.88 71.5013 1445.77 Q71.5013 1438.64 69.6726 1435.1 Q67.867 1431.54 64.2328 1431.54 M64.2328 1427.83 Q70.0429 1427.83 73.0985 1432.44 Q76.1772 1437.02 76.1772 1445.77 Q76.1772 1454.5 73.0985 1459.11 Q70.0429 1463.69 64.2328 1463.69 Q58.4226 1463.69 55.344 1459.11 Q52.2884 1454.5 52.2884 1445.77 Q52.2884 1437.02 55.344 1432.44 Q58.4226 1427.83 64.2328 1427.83 Z\" fill=\"#000000\" fill-rule=\"nonzero\" fill-opacity=\"1\" /><path clip-path=\"url(#clip140)\" d=\"M56.2699 1237.35 L63.9087 1237.35 L63.9087 1210.98 L55.5986 1212.65 L55.5986 1208.39 L63.8624 1206.73 L68.5383 1206.73 L68.5383 1237.35 L76.1772 1237.35 L76.1772 1241.29 L56.2699 1241.29 L56.2699 1237.35 Z\" fill=\"#000000\" fill-rule=\"nonzero\" fill-opacity=\"1\" /><path clip-path=\"url(#clip140)\" d=\"M59.8578 1015.62 L76.1772 1015.62 L76.1772 1019.55 L54.2328 1019.55 L54.2328 1015.62 Q56.8949 1012.86 61.4782 1008.23 Q66.0846 1003.58 67.2652 1002.24 Q69.5105 999.715 70.3902 997.979 Q71.2929 996.22 71.2929 994.53 Q71.2929 991.775 69.3485 990.039 Q67.4272 988.303 64.3254 988.303 Q62.1263 988.303 59.6726 989.067 Q57.2421 989.831 54.4643 991.382 L54.4643 986.66 Q57.2884 985.526 59.7421 984.947 Q62.1958 984.368 64.2328 984.368 Q69.6031 984.368 72.7976 987.053 Q75.992 989.738 75.992 994.229 Q75.992 996.359 75.1818 998.28 Q74.3948 1000.18 72.2883 1002.77 Q71.7096 1003.44 68.6078 1006.66 Q65.5059 1009.85 59.8578 1015.62 Z\" fill=\"#000000\" fill-rule=\"nonzero\" fill-opacity=\"1\" /><path clip-path=\"url(#clip140)\" d=\"M69.0476 779.187 Q72.404 779.904 74.279 782.173 Q76.1772 784.441 76.1772 787.775 Q76.1772 792.89 72.6587 795.691 Q69.1402 798.492 62.6587 798.492 Q60.4828 798.492 58.168 798.052 Q55.8764 797.636 53.4227 796.779 L53.4227 792.265 Q55.3671 793.399 57.6819 793.978 Q59.9967 794.557 62.5198 794.557 Q66.918 794.557 69.2096 792.821 Q71.5244 791.085 71.5244 787.775 Q71.5244 784.719 69.3717 783.006 Q67.242 781.27 63.4226 781.27 L59.3949 781.27 L59.3949 777.427 L63.6078 777.427 Q67.0569 777.427 68.8855 776.062 Q70.7142 774.673 70.7142 772.08 Q70.7142 769.418 68.8161 768.006 Q66.9411 766.571 63.4226 766.571 Q61.5013 766.571 59.3023 766.988 Q57.1032 767.404 54.4643 768.284 L54.4643 764.117 Q57.1264 763.377 59.4412 763.006 Q61.7791 762.636 63.8393 762.636 Q69.1633 762.636 72.2652 765.066 Q75.367 767.474 75.367 771.594 Q75.367 774.464 73.7235 776.455 Q72.08 778.423 69.0476 779.187 Z\" fill=\"#000000\" fill-rule=\"nonzero\" fill-opacity=\"1\" /><path clip-path=\"url(#clip140)\" d=\"M66.5939 545.602 L54.7884 564.051 L66.5939 564.051 L66.5939 545.602 M65.367 541.528 L71.2466 541.528 L71.2466 564.051 L76.1772 564.051 L76.1772 567.94 L71.2466 567.94 L71.2466 576.088 L66.5939 576.088 L66.5939 567.94 L50.9921 567.94 L50.9921 563.426 L65.367 541.528 Z\" fill=\"#000000\" fill-rule=\"nonzero\" fill-opacity=\"1\" /><path clip-path=\"url(#clip140)\" d=\"M55.2745 319.796 L73.6309 319.796 L73.6309 323.731 L59.5569 323.731 L59.5569 332.203 Q60.5754 331.856 61.5939 331.694 Q62.6124 331.509 63.6309 331.509 Q69.418 331.509 72.7976 334.68 Q76.1772 337.852 76.1772 343.268 Q76.1772 348.847 72.705 351.949 Q69.2328 355.027 62.9134 355.027 Q60.7374 355.027 58.4689 354.657 Q56.2236 354.287 53.8162 353.546 L53.8162 348.847 Q55.8995 349.981 58.1217 350.537 Q60.3439 351.092 62.8208 351.092 Q66.8254 351.092 69.1633 348.986 Q71.5013 346.879 71.5013 343.268 Q71.5013 339.657 69.1633 337.551 Q66.8254 335.444 62.8208 335.444 Q60.9458 335.444 59.0708 335.861 Q57.2189 336.277 55.2745 337.157 L55.2745 319.796 Z\" fill=\"#000000\" fill-rule=\"nonzero\" fill-opacity=\"1\" /><path clip-path=\"url(#clip140)\" d=\"M64.6495 113.48 Q61.5013 113.48 59.6495 115.633 Q57.8208 117.786 57.8208 121.536 Q57.8208 125.263 59.6495 127.439 Q61.5013 129.591 64.6495 129.591 Q67.7976 129.591 69.6263 127.439 Q71.4781 125.263 71.4781 121.536 Q71.4781 117.786 69.6263 115.633 Q67.7976 113.48 64.6495 113.48 M73.9318 98.8276 L73.9318 103.087 Q72.1726 102.254 70.367 101.814 Q68.5846 101.374 66.8254 101.374 Q62.1958 101.374 59.7421 104.499 Q57.3115 107.624 56.9643 113.943 Q58.33 111.929 60.3902 110.865 Q62.4504 109.777 64.9272 109.777 Q70.1355 109.777 73.1448 112.948 Q76.1772 116.096 76.1772 121.536 Q76.1772 126.86 73.029 130.077 Q69.8809 133.295 64.6495 133.295 Q58.6541 133.295 55.4828 128.712 Q52.3116 124.105 52.3116 115.378 Q52.3116 107.184 56.2004 102.323 Q60.0893 97.4388 66.6402 97.4388 Q68.3994 97.4388 70.1818 97.786 Q71.9874 98.1332 73.9318 98.8276 Z\" fill=\"#000000\" fill-rule=\"nonzero\" fill-opacity=\"1\" /><polyline clip-path=\"url(#clip142)\" style=\"stroke:#009af9; stroke-linecap:round; stroke-linejoin:round; stroke-width:4; stroke-opacity:1; fill:none\" points=\"175.59,1445.72 186.212,1445.71 196.834,1445.7 207.455,1445.68 218.077,1445.65 228.699,1445.6 239.321,1445.53 249.943,1445.43 260.565,1445.29 271.187,1445.09 281.809,1444.82 292.43,1444.45 303.052,1443.97 313.674,1443.34 324.296,1442.54 334.918,1441.54 345.54,1440.31 356.162,1438.82 366.784,1437.06 377.405,1435.02 388.027,1432.71 398.649,1430.13 409.271,1427.34 419.893,1424.37 430.515,1421.3 441.137,1418.2 451.759,1415.19 462.38,1412.34 473.002,1409.75 483.624,1407.52 494.246,1405.71 504.868,1404.36 515.49,1403.5 526.112,1403.1 536.734,1403.12 547.355,1403.47 557.977,1404.04 568.599,1404.69 579.221,1405.27 589.843,1405.62 600.465,1405.57 611.087,1404.99 621.709,1403.75 632.33,1401.73 642.952,1398.87 653.574,1395.13 664.196,1390.47 674.818,1384.91 685.44,1378.47 696.062,1371.19 706.684,1363.09 717.306,1354.21 727.927,1344.56 738.549,1334.14 749.171,1322.9 759.793,1310.8 770.415,1297.73 781.037,1283.59 791.659,1268.24 802.281,1251.56 812.902,1233.41 823.524,1213.68 834.146,1192.29 844.768,1169.19 855.39,1144.39 866.012,1117.95 876.634,1089.99 887.256,1060.67 897.877,1030.21 908.499,998.828 919.121,966.771 929.743,934.263 940.365,901.501 950.987,868.637 961.609,835.766 972.231,802.924 982.852,770.086 993.474,737.181 1004.1,704.099 1014.72,670.719 1025.34,636.922 1035.96,602.617 1046.58,567.757 1057.21,532.351 1067.83,496.477 1078.45,460.28 1089.07,423.974 1099.69,387.827 1110.31,352.158 1120.94,317.318 1131.56,283.68 1142.18,251.624 1152.8,221.526 1163.42,193.75 1174.05,168.635 1184.67,146.495 1195.29,127.605 1205.91,112.195 1216.53,100.447 1227.16,92.4783 1237.78,88.3339 1248.4,87.9763 1259.02,91.2742 1269.64,97.9958 1280.26,107.806 1290.89,120.268 1301.51,134.855 1312.13,150.971 1322.75,167.972 1333.37,185.206 1344,202.049 1354.62,217.946 1365.24,232.454 1375.86,245.273 1386.48,256.275 1397.11,265.52 1407.73,273.252 1418.35,279.891 1428.97,286 1439.59,292.253 1450.22,299.382 1460.84,308.129 1471.46,319.194 1482.08,333.191 1492.7,350.607 1503.32,371.782 1513.95,396.889 1524.57,425.938 1535.19,458.785 1545.81,495.153 1556.43,534.656 1567.06,576.831 1577.68,621.167 1588.3,667.131 1598.92,714.192 1609.54,761.836 1620.17,809.582 1630.79,856.989 1641.41,903.657 1652.03,949.231 1662.65,993.396 1673.27,1035.88 1683.9,1076.45 1694.52,1114.9 1705.14,1151.07 1715.76,1184.83 1726.38,1216.07 1737.01,1244.73 1747.63,1270.77 1758.25,1294.17 1768.87,1314.96 1779.49,1333.18 1790.12,1348.9 1800.74,1362.22 1811.36,1373.28 1821.98,1382.23 1832.6,1389.25 1843.22,1394.53 1853.85,1398.31 1864.47,1400.81 1875.09,1402.3 1885.71,1403.01 1896.33,1403.18 1906.96,1403.07 1917.58,1402.86 1928.2,1402.75 1938.82,1402.89 1949.44,1403.39 1960.07,1404.31 1970.69,1405.69 1981.31,1407.52 1991.93,1409.76 2002.55,1412.35 2013.17,1415.2 2023.8,1418.21 2034.42,1421.3 2045.04,1424.37 2055.66,1427.34 2066.28,1430.13 2076.91,1432.71 2087.53,1435.02 2098.15,1437.06 2108.77,1438.82 2119.39,1440.31 2130.02,1441.54 2140.64,1442.54 2151.26,1443.34 2161.88,1443.97 2172.5,1444.45 2183.12,1444.82 2193.75,1445.09 2204.37,1445.29 2214.99,1445.43 2225.61,1445.53 2236.23,1445.6 2246.86,1445.65 2257.48,1445.68 2268.1,1445.7 2278.72,1445.71 2289.34,1445.72 \"/>\n",
       "<path clip-path=\"url(#clip140)\" d=\"M2001.58 198.898 L2278.07 198.898 L2278.07 95.2176 L2001.58 95.2176  Z\" fill=\"#ffffff\" fill-rule=\"evenodd\" fill-opacity=\"1\"/>\n",
       "<polyline clip-path=\"url(#clip140)\" style=\"stroke:#000000; stroke-linecap:round; stroke-linejoin:round; stroke-width:4; stroke-opacity:1; fill:none\" points=\"2001.58,198.898 2278.07,198.898 2278.07,95.2176 2001.58,95.2176 2001.58,198.898 \"/>\n",
       "<polyline clip-path=\"url(#clip140)\" style=\"stroke:#009af9; stroke-linecap:round; stroke-linejoin:round; stroke-width:4; stroke-opacity:1; fill:none\" points=\"2026.48,147.058 2175.85,147.058 \"/>\n",
       "<path clip-path=\"url(#clip140)\" d=\"M2214.59 166.745 Q2212.78 171.375 2211.07 172.787 Q2209.36 174.199 2206.49 174.199 L2203.08 174.199 L2203.08 170.634 L2205.58 170.634 Q2207.34 170.634 2208.31 169.8 Q2209.29 168.967 2210.47 165.865 L2211.23 163.921 L2200.74 138.412 L2205.26 138.412 L2213.36 158.689 L2221.46 138.412 L2225.98 138.412 L2214.59 166.745 Z\" fill=\"#000000\" fill-rule=\"nonzero\" fill-opacity=\"1\" /><path clip-path=\"url(#clip140)\" d=\"M2233.27 160.402 L2240.91 160.402 L2240.91 134.037 L2232.6 135.703 L2232.6 131.444 L2240.86 129.778 L2245.54 129.778 L2245.54 160.402 L2253.17 160.402 L2253.17 164.338 L2233.27 164.338 L2233.27 160.402 Z\" fill=\"#000000\" fill-rule=\"nonzero\" fill-opacity=\"1\" /></svg>\n"
      ]
     },
     "execution_count": 29,
     "metadata": {},
     "output_type": "execute_result"
    }
   ],
   "source": [
    "let\n",
    "\n",
    "    # method = gkl_divergence();\n",
    "    \n",
    "    distance_array = Array{Float64,1}();\n",
    "    for i ∈ 1:number_of_paths\n",
    "        R̂ = out_of_sample_decoded_archive[:,i]; # simulated return\n",
    "        r = corr_dist(R̂,Rᵢ);\n",
    "        push!(distance_array,r);\n",
    "    end\n",
    "\n",
    "    density(distance_array);\n",
    "end"
   ]
  },
  {
   "cell_type": "code",
   "execution_count": 30,
   "id": "88240bfd-a627-4522-8e66-c4b6dccad3b4",
   "metadata": {},
   "outputs": [
    {
     "data": {
      "text/plain": [
       "\"/Users/abdulrahmanalswaidan/Desktop/Project-Repos/HMM-withJumps/figs/Fig-SPY-out-of-sample-ExcessGrowthRate-VC-HMM.svg\""
      ]
     },
     "execution_count": 30,
     "metadata": {},
     "output_type": "execute_result"
    }
   ],
   "source": [
    "let\n",
    "    # generate a random index -\n",
    "    random_index = rand(1:number_of_paths);\n",
    "    number_of_steps = length(Rᵢ);\n",
    "    # random_index = 12\n",
    "\n",
    "    plot(autocor(abs.(Rᵢ), (1:(number_of_steps-1) |> collect)), label=\"Observed\", c=:red, \n",
    "        bg=\"gray95\", background_color_outside=\"white\", framestyle = :box, fg_legend = :transparent, linetype=:steppost)\n",
    "    plot!(autocor(abs.(out_of_sample_decoded_archive[:,random_index]), ((1:(number_of_steps - 1)) |> collect)), c=blue_color,\n",
    "        label=\"Simulated (i = $(random_index))\", linetype=:steppost)\n",
    "    \n",
    "    LINE = (1.96/sqrt(number_of_steps))*ones(number_of_steps-1);\n",
    "    plot!(LINE, label=\"95% confidence\", lw=2, c=:black, ls=:dash)\n",
    "    plot!(-LINE, label=\"\", lw=2, c=:black, ls=:dash)\n",
    "    xlabel!(\"Lag (trading day)\", fontsize=18)\n",
    "    ylabel!(\"Autocorrelation abs (Growth rate)\", fontsize=18)\n",
    "\n",
    "    savefig(joinpath(_PATH_TO_FIGURES, \"Fig-$(ticker)-out-of-sample-ExcessGrowthRate-VC-HMM.svg\"))\n",
    "end"
   ]
  },
  {
   "cell_type": "markdown",
   "id": "ff6e8b82-0d4d-43f5-9a59-00019a4e45c2",
   "metadata": {},
   "source": [
    "## Disclaimer and Risks\n",
    "__This content is offered solely for training and informational purposes__. No offer or solicitation to buy or sell securities or derivative products or any investment or trading advice or strategy is made, given, or endorsed by the teaching team. \n",
    "\n",
    "__Trading involves risk__. Carefully review your financial situation before investing in securities, futures contracts, options, or commodity interests. Past performance, whether actual or indicated by historical tests of strategies, is no guarantee of future performance or success. Trading is generally inappropriate for someone with limited resources, investment or trading experience, or a low-risk tolerance.  Only risk capital that is not required for living expenses.\n",
    "\n",
    "__You are fully responsible for any investment or trading decisions you make__. You should decide solely based on your financial circumstances, investment or trading objectives, risk tolerance, and liquidity needs."
   ]
  },
  {
   "cell_type": "code",
   "execution_count": null,
   "id": "98d8e523-0306-4854-916b-ed43e7618820",
   "metadata": {},
   "outputs": [],
   "source": []
  }
 ],
 "metadata": {
  "kernelspec": {
   "display_name": "Julia 1.11.6",
   "language": "julia",
   "name": "julia-1.11"
  },
  "language_info": {
   "file_extension": ".jl",
   "mimetype": "application/julia",
   "name": "julia",
   "version": "1.11.6"
  }
 },
 "nbformat": 4,
 "nbformat_minor": 5
}

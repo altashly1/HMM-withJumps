{
 "cells": [
  {
   "cell_type": "code",
   "execution_count": null,
   "id": "ec5f7ed7-748e-4818-a399-d0c0b1a4f5ae",
   "metadata": {},
   "outputs": [],
   "source": [
    "### 📘 Cell 1: Import necessary packages\n",
    "include(\"include.jl\")"
   ]
  },
  {
   "cell_type": "code",
   "execution_count": 1,
   "id": "36de6a9f-ee68-4dd6-b354-dc3cba838dc4",
   "metadata": {},
   "outputs": [
    {
     "ename": "LoadError",
     "evalue": "ArgumentError: No file exists at given path: your_file.jld2",
     "output_type": "error",
     "traceback": [
      "ArgumentError: No file exists at given path: your_file.jld2",
      "",
      "Stacktrace:",
      " [1] checkpath_load(file::String)",
      "   @ FileIO ~/.julia/packages/FileIO/ePyCW/src/loadsave.jl:167",
      " [2] load(::String; options::@Kwargs{})",
      "   @ FileIO ~/.julia/packages/FileIO/ePyCW/src/loadsave.jl:110",
      " [3] load(::String)",
      "   @ FileIO ~/.julia/packages/FileIO/ePyCW/src/loadsave.jl:109",
      " [4] top-level scope",
      "   @ In[1]:7"
     ]
    }
   ],
   "source": [
    "\n",
    "\n",
    "### 📘 Cell 2: Load the JLD2 file\n",
    "# Replace \"your_file.jld2\" with your actual file path\n",
    "data = MyPortfolioDataSet()\n"
   ]
  },
  {
   "cell_type": "code",
   "execution_count": null,
   "id": "6bece68e-25d3-4932-a17c-9db7bc866c9b",
   "metadata": {},
   "outputs": [],
   "source": [
    "### 📘 Cell 3: Extract the DataFrame from the loaded file\n",
    "# Replace \"your_variable_name\" with the actual variable name in the JLD2 file\n",
    "df = data[\"your_variable_name\"]\n"
   ]
  },
  {
   "cell_type": "code",
   "execution_count": null,
   "id": "8b34c3ba-a08e-4ae4-87a9-eb5c4a9a6b62",
   "metadata": {},
   "outputs": [],
   "source": [
    "### 📘 Cell 4: Parse the date column\n",
    "# Make sure the date column is of type Date\n",
    "df.Date = Date.(df.Date)\n",
    "\n",
    "\n",
    "### 📘 Cell 5: Define the training and testing periods and split the data\n",
    "train_start = Date(2014, 1, 1)\n",
    "train_end = Date(2023, 12, 31)\n",
    "\n",
    "train_data = filter(row -> train_start <= row.Date <= train_end, df)\n",
    "test_data = filter(row -> row.Date > train_end, df)\n",
    "\n",
    "\n",
    "### 📘 Cell 6: Display the size of the datasets\n",
    "println(\"Training set: \", size(train_data))\n",
    "println(\"Testing set: \", size(test_data))\n"
   ]
  },
  {
   "cell_type": "code",
   "execution_count": null,
   "id": "5718f967-bc73-49c0-8ac4-85dec5d976c6",
   "metadata": {},
   "outputs": [],
   "source": [
    "### 📘 Cell 7: Save the datasets with dates in the filenames\n",
    "# Assumes _PATH_TO_DATA is defined in your include.jl file\n",
    "train_file = joinpath(_PATH_TO_DATA, \"train_data_2014_2023.jld2\")\n",
    "test_file = joinpath(_PATH_TO_DATA, \"test_data_2024_onward.jld2\")\n",
    "\n",
    "@save train_file train_data\n",
    "@save test_file test_data"
   ]
  }
 ],
 "metadata": {
  "kernelspec": {
   "display_name": "Julia 1.11.4",
   "language": "julia",
   "name": "julia-1.11"
  },
  "language_info": {
   "file_extension": ".jl",
   "mimetype": "application/julia",
   "name": "julia",
   "version": "1.11.4"
  }
 },
 "nbformat": 4,
 "nbformat_minor": 5
}

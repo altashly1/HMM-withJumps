{
 "cells": [
  {
   "cell_type": "code",
   "execution_count": 1,
   "metadata": {},
   "outputs": [
    {
     "data": {
      "text/plain": [
       "log_growth_matrix (generic function with 1 method)"
      ]
     },
     "execution_count": 1,
     "metadata": {},
     "output_type": "execute_result"
    }
   ],
   "source": [
    "include(\"Include.jl\")"
   ]
  },
  {
   "cell_type": "markdown",
   "metadata": {},
   "source": [
    "Fetching all market tickers"
   ]
  },
  {
   "cell_type": "code",
   "execution_count": 5,
   "metadata": {},
   "outputs": [
    {
     "data": {
      "text/plain": [
       "fetch_data_for_ticker (generic function with 1 method)"
      ]
     },
     "execution_count": 5,
     "metadata": {},
     "output_type": "execute_result"
    }
   ],
   "source": [
    "POLYGON_API_KEY = \"GiOn9jp9hlME7_NI0LypBwh4eMJ_irS4\"\n",
    "\n",
    "function get_all_tickers()\n",
    "    all_tickers = String[]\n",
    "    url = \"https://api.polygon.io/v3/reference/tickers?market=stocks&active=true&limit=1000&apiKey=$POLYGON_API_KEY\"\n",
    "    while !isempty(url)\n",
    "        response = HTTP.get(url)\n",
    "        data = JSON3.read(response.body)\n",
    "        append!(all_tickers, [result[\"ticker\"] for result in data[\"results\"]])\n",
    "        url = get(data, \"next_url\", \"\")\n",
    "    end\n",
    "    return all_tickers\n",
    "end\n",
    "\n",
    "function fetch_data_for_ticker(ticker, date)\n",
    "    date_str = Dates.format(date, \"yyyy-mm-dd\")\n",
    "    url = \"https://api.polygon.io/v1/open-close/$ticker/$date_str?adjusted=true&apiKey=$POLYGON_API_KEY\"\n",
    "    response = HTTP.get(url)\n",
    "    return JSON3.read(response.body)\n",
    "end"
   ]
  },
  {
   "cell_type": "markdown",
   "metadata": {},
   "source": [
    "Retrieve tickers and data"
   ]
  },
  {
   "cell_type": "code",
   "execution_count": 6,
   "metadata": {},
   "outputs": [
    {
     "ename": "LoadError",
     "evalue": "UndefVarError: `HTTP` not defined in `Main`\nSuggestion: check for spelling errors or missing imports.\nHint: HTTP is loaded but not imported in the active module Main.",
     "output_type": "error",
     "traceback": [
      "UndefVarError: `HTTP` not defined in `Main`\nSuggestion: check for spelling errors or missing imports.\nHint: HTTP is loaded but not imported in the active module Main.",
      "",
      "Stacktrace:",
      " [1] get_all_tickers()",
      "   @ Main .\\In[5]:7",
      " [2] top-level scope",
      "   @ In[6]:1"
     ]
    }
   ],
   "source": [
    "tickers = get_all_tickers()\n",
    "target_dates = [Date(\"2024-03-25\"), Date(\"2024-03-26\")]\n",
    "\n",
    "market_data = Dict{String, Dict{Date, Any}}()\n",
    "for ticker in tickers\n",
    "    println(\"Fetching data for $ticker\")\n",
    "    ticker_data = Dict{Date, Any}()\n",
    "    for date in target_dates\n",
    "        try\n",
    "            data = fetch_data_for_ticker(ticker, date)\n",
    "            ticker_data[date] = data\n",
    "        catch e\n",
    "            @warn \"Failed to fetch data for $ticker on $date: $e\"\n",
    "        end\n",
    "    end\n",
    "    market_data[ticker] = ticker_data\n",
    "end"
   ]
  },
  {
   "cell_type": "markdown",
   "metadata": {},
   "source": [
    "saving file to data"
   ]
  },
  {
   "cell_type": "code",
   "execution_count": null,
   "metadata": {},
   "outputs": [],
   "source": [
    "output_file = joinpath(_PATH_TO_DATA, \"us_market_data.jld2\")\n",
    "@save output_file market_data"
   ]
  }
 ],
 "metadata": {
  "kernelspec": {
   "display_name": "Julia 1.11.4",
   "language": "julia",
   "name": "julia-1.11"
  },
  "language_info": {
   "file_extension": ".jl",
   "mimetype": "application/julia",
   "name": "julia",
   "version": "1.11.4"
  }
 },
 "nbformat": 4,
 "nbformat_minor": 4
}
